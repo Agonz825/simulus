{
 "cells": [
  {
   "cell_type": "markdown",
   "metadata": {},
   "source": [
    "## Useful Tips\n",
    "\n",
    "In this section, we discuss some of the useful mechanisms in simulus to help accomplish modeling tasks.\n",
    "\n",
    "### Pseudo-Random Numbers\n",
    "\n",
    "So far we have been using Python's `random` module to generate all the needed pseudo-random numbers in our examples. One can also use `numpy.random` to generate random numbers. Both generators use Mersenne twister, which has very good random properties. Using `numpy.random` has a couple of advantages: one is that it provides more random distributions; the other is that the numpy module can be used to generate numpy arrays vert efficiently. Of course, using `numpy.random` requires numpy to be installed. \n",
    "\n",
    "The following shows the single-server queue example which we discussed earlier, but this time, we use different random distributions for the inter-arrival time and the service time. We use a Pareto distribution for the arrivals and a Gamma distribution for services."
   ]
  },
  {
   "cell_type": "code",
   "execution_count": 20,
   "metadata": {},
   "outputs": [
    {
     "name": "stdout",
     "output_type": "stream",
     "text": [
      "2.50792: job(1) arrives\n",
      "2.50792: job(1) gains access\n",
      "2.93383: job(2) arrives\n",
      "3.71817: job(3) arrives\n",
      "6.62659: job(1) releases\n",
      "6.62659: job(2) gains access\n",
      "7.3872: job(2) releases\n",
      "7.3872: job(3) gains access\n",
      "7.56079: job(3) releases\n"
     ]
    }
   ],
   "source": [
    "# %load '../examples/misc/mm1-numpy.py'\n",
    "import numpy # assuming numpy has been installed\n",
    "import simulus\n",
    "\n",
    "numpy.random.seed(123)\n",
    "\n",
    "def job(idx):\n",
    "    r.acquire()\n",
    "    print(\"%g: job(%d) gains access\" % (sim.now,idx))\n",
    "    sim.sleep(numpy.random.gamma(2, 2))\n",
    "    print(\"%g: job(%d) releases\" % (sim.now,idx))\n",
    "    r.release()\n",
    "\n",
    "def arrival():\n",
    "    i = 0\n",
    "    while True:\n",
    "        i += 1\n",
    "        sim.sleep(numpy.random.pareto(0.95))\n",
    "        print(\"%g: job(%d) arrives\" % (sim.now,i))\n",
    "        sim.process(job, i)\n",
    "\n",
    "sim = simulus.simulator()\n",
    "r = sim.resource()\n",
    "sim.process(arrival)\n",
    "sim.run(10)\n"
   ]
  },
  {
   "cell_type": "markdown",
   "metadata": {},
   "source": [
    "Actually, all our examples use the module's default random generator (`random` or `numpy.random`). All the functions supplied by the module are actually bound methods of a hidden instance of the corresponding class (`random.Random` or `numpy.random.RandomState`). Although it's OK for all the examples we have shown, there is a slight problem if we use the module-bound random generator:\n",
    "* When we instantiate more than one simulators, they will share the random sequence. This means the simulation result may be different from running each simulator alone. This could make debugging difficult.\n",
    "* When we run parallel and distributed simulation (as we will discuss later), if all simulation instances start with the same random seed, they would use the same random sequence. This is not a good idea because this would artificially introduce correlations among supposedly independent random processes.\n",
    "\n",
    "Simulus provides an easy way to produce an independent random sequence at each simulator. The simulator's `rng()` method returns a random number generator that's attached to the simulator. There is one and only one such random number generator at each simulator. Internally, the generator is created with a seed taken from the `random` module's default random sequence (which is supposed to be seeded with the same constant), and the name of the simulator (which is supposed to be uniquely chosen by the user, or by simulus using the default random sequence if the simulator is created anonymously). Consequently, the random sequence will be consistant (across different runs and on differnt parallel machines) and guaranteed to be independent among simulators, as long as we use the same random seed to start the simulation. "
   ]
  },
  {
   "cell_type": "code",
   "execution_count": 23,
   "metadata": {},
   "outputs": [
    {
     "name": "stdout",
     "output_type": "stream",
     "text": [
      "1.86502: job(1) arrives\n",
      "1.86502: job(1) gains access\n",
      "2.9371: job(2) arrives\n",
      "3.00131: job(3) arrives\n",
      "3.27486: job(4) arrives\n",
      "3.79335: job(1) releases\n",
      "3.79335: job(2) gains access\n",
      "4.16708: job(5) arrives\n",
      "4.36979: job(2) releases\n",
      "4.36979: job(3) gains access\n",
      "7.54389: job(6) arrives\n",
      "7.60303: job(3) releases\n",
      "7.60303: job(4) gains access\n",
      "7.65806: job(7) arrives\n",
      "8.32767: job(8) arrives\n",
      "9.29563: job(4) releases\n",
      "9.29563: job(5) gains access\n",
      "9.56081: job(9) arrives\n"
     ]
    }
   ],
   "source": [
    "# %load '../examples/misc/mm1-simrng.py'\n",
    "import numpy # assuming numpy has been installed\n",
    "import random, simulus\n",
    "\n",
    "# this determines the random module's default random sequence\n",
    "random.seed(123)\n",
    "\n",
    "def job(idx):\n",
    "    r.acquire()\n",
    "    print(\"%g: job(%d) gains access\" % (sim.now,idx))\n",
    "    sim.sleep(rng.gamma(2, 2))\n",
    "    print(\"%g: job(%d) releases\" % (sim.now,idx))\n",
    "    r.release()\n",
    "\n",
    "def arrival():\n",
    "    i = 0\n",
    "    while True:\n",
    "        i += 1\n",
    "        sim.sleep(rng.pareto(0.95))\n",
    "        print(\"%g: job(%d) arrives\" % (sim.now,i))\n",
    "        sim.process(job, i)\n",
    "\n",
    "sim = simulus.simulator('unique_name')\n",
    "rng = numpy.random.RandomState(sim.rng().randrange(2**32))\n",
    "r = sim.resource()\n",
    "sim.process(arrival)\n",
    "sim.run(10)\n"
   ]
  },
  {
   "cell_type": "markdown",
   "metadata": {},
   "source": [
    "In the above example, we create a numpy random number generator `rng` and seed it using the simulator's attached generator. The simulator is also named. In this case, the random number sequence from `rng` is going to be dependent only on the initial random seed 123, regardless whether the simulator is running together with other simulators or as part of a parallel simulation on different ranks. \n",
    "\n",
    "### Statistical Data Collection"
   ]
  },
  {
   "cell_type": "code",
   "execution_count": 29,
   "metadata": {},
   "outputs": [
    {
     "name": "stdout",
     "output_type": "stream",
     "text": [
      "arrivals (timemarks): samples=1001\n",
      "  data=[0.053784393390292756, 0.1450082787542893, 0.2589614221257033] ...\n",
      "  rate = 1.001\n",
      "inter_arrivals (runstats): samples=1001\n",
      "  mean = 0.998714\n",
      "  stdev = 0.98983\n",
      "  var = 0.979764\n",
      "  min = 0.00034846\n",
      "  max = 9.35352\n",
      "service_times (runstats): samples=994\n",
      "  mean = 0.868895\n",
      "  stdev = 0.901727\n",
      "  var = 0.813111\n",
      "  min = 0.00299268\n",
      "  max = 7.22985\n",
      "system_times (runstats): samples=994\n",
      "  data=[0.47542605365258694, 0.4195663293328595, 1.0040734156806599] ...\n",
      "  mean = 5.9483\n",
      "  stdev = 4.64295\n",
      "  var = 21.557\n",
      "  min = 0.00781643\n",
      "  max = 21.8591\n",
      "in_systems (timeseries): samples=1995\n",
      "  data=[(0.053784393390292756, 1), (0.1450082787542893, 2), (0.2589614221257033, 3)] ...\n",
      "  avg=5.93883\n",
      "in_queues (timeseries): samples=1873\n",
      "  data=[(0.053784393390292756, 0), (0.1450082787542893, 1), (0.2589614221257033, 2)] ...\n",
      "  avg=5.07294\n"
     ]
    }
   ],
   "source": [
    "# %load '../examples/misc/mm1-dc.py'\n",
    "import simulus, random\n",
    "\n",
    "random.seed(123)\n",
    "\n",
    "def job():\n",
    "    r.acquire()\n",
    "    sim.sleep(random.expovariate(1.1))\n",
    "    r.release()\n",
    "\n",
    "def arrival():\n",
    "    while True:\n",
    "        sim.sleep(random.expovariate(1))\n",
    "        sim.process(job)\n",
    "\n",
    "sim = simulus.simulator()\n",
    "\n",
    "dc = simulus.DataCollector(\n",
    "    arrivals='timemarks(all)', \n",
    "#    services='timemarks()',\n",
    "#    reneges='timemarks', \n",
    "#    departs='timemarks(all)',\n",
    "    inter_arrivals='runstats()',\n",
    "#    queue_times='runstats',\n",
    "#    renege_times='runstats',\n",
    "    service_times='runstats',\n",
    "    system_times='runstats(all)',\n",
    "    in_systems='timeseries(all)',\n",
    "#    in_services='timeseries',\n",
    "    in_queues='timeseries(all)'\n",
    ")\n",
    "r = sim.resource(collect=dc)\n",
    "\n",
    "sim.process(arrival)\n",
    "sim.run(1000)\n",
    "dc.report(sim.now)\n"
   ]
  },
  {
   "cell_type": "code",
   "execution_count": 30,
   "metadata": {},
   "outputs": [
    {
     "data": {
      "image/png": "[encoded data removed]",
      "text/plain": [
       "<Figure size 432x288 with 2 Axes>"
      ]
     },
     "metadata": {
      "needs_background": "light"
     },
     "output_type": "display_data"
    }
   ],
   "source": [
    "%matplotlib inline\n",
    "import matplotlib.pyplot as plt\n",
    "\n",
    "fig, axs = plt.subplots(1, 2, tight_layout=True)\n",
    "insys = dc.in_systems.data()\n",
    "inque = dc.in_queues.data()\n",
    "axs[0].step(*zip(*insys), where='post', label=\"number in system\")\n",
    "axs[0].step(*zip(*inque), where='post', label=\"number in queue\")\n",
    "axs[0].set_xlim([0,12])\n",
    "axs[0].set_ylim([0,9])\n",
    "axs[0].set_xlabel('time')\n",
    "axs[0].set_ylabel('number of jobs')\n",
    "axs[0].legend(loc='upper left')\n",
    "\n",
    "st = dc.system_times.data()\n",
    "axs[1].hist(st, bins=20, density=True, histtype='step')\n",
    "axs[1].set_xlabel('time in system')\n",
    "axs[1].set_ylabel('probability')\n",
    "\n",
    "plt.show()"
   ]
  },
  {
   "cell_type": "code",
   "execution_count": 33,
   "metadata": {},
   "outputs": [
    {
     "name": "stdout",
     "output_type": "stream",
     "text": [
      "get_times (runstats): samples=142\n",
      "  mean = 26.6944\n",
      "  stdev = 66.3762\n",
      "  var = 4405.8\n",
      "  min = 0\n",
      "  max = 212.189\n",
      "levels (timeseries): samples=113\n",
      "  data=[(0, 2000), (0.26892196695146375, 1957), (0.7250413937714464, 1921)] ...\n",
      "  avg=391.148\n"
     ]
    }
   ],
   "source": [
    "# %load '../examples/misc/gas-dc.py'\n",
    "import itertools, random, simulus\n",
    "\n",
    "GAS_STATION_SIZE = 2000    # gas station reservoir size\n",
    "GAS_PUMPS = 10             # number of gas pumps\n",
    "REFUEL_THRESHOLD = 25      # min reservoir level (in %) before calling the tank truck\n",
    "FUEL_TANK_SIZE = 50        # car's fuel task size\n",
    "FUEL_TANK_LEVEL = [1, 15]  # min/max tank level before refueling\n",
    "REFUELING_SPEED = 2        # speed of the pump\n",
    "TANK_TRUCK_TIME = 300      # tank truck travel time\n",
    "INTER_ARRIVAL = 5          # inter-arrival time of cars\n",
    "\n",
    "def car_generator(sim, gas_station, fuel_pump):\n",
    "    for i in itertools.count():\n",
    "        sim.sleep(random.expovariate(1.0/INTER_ARRIVAL))\n",
    "        sim.process(car, sim, gas_station, fuel_pump)\n",
    "\n",
    "def car(sim, gas_station, fuel_pump):\n",
    "    fuel_tank_level = random.randint(*FUEL_TANK_LEVEL)\n",
    "    gas_station.acquire() # dumb wait\n",
    "    liters_required = FUEL_TANK_SIZE - fuel_tank_level\n",
    "    fuel_pump.get(liters_required) # another dumb wait\n",
    "    sim.sleep(liters_required / REFUELING_SPEED)\n",
    "    gas_station.release()\n",
    "\n",
    "def gas_station_control(sim, fuel_pump):\n",
    "    while True:\n",
    "        if fuel_pump.level/fuel_pump.capacity*100 < REFUEL_THRESHOLD:\n",
    "            sim.wait(sim.process(tank_truck, sim, fuel_pump))\n",
    "        sim.sleep(10)  # check every 10 seconds\n",
    "\n",
    "def tank_truck(sim, fuel_pump):\n",
    "    sim.sleep(random.expovariate(1.0/TANK_TRUCK_TIME))\n",
    "    amt = fuel_pump.capacity - fuel_pump.level\n",
    "    fuel_pump.put(amt)\n",
    "\n",
    "random.seed(123)\n",
    "sim = simulus.simulator()\n",
    "gas_station = sim.resource(GAS_PUMPS)\n",
    "dc = simulus.DataCollector(\n",
    "#    puts='timeseries(all)',\n",
    "#    put_times='runstats(all)',\n",
    "#    put_queues='timeseries(all)',\n",
    "#    gets='timeseries(all)',\n",
    "    get_times='runstats',\n",
    "#    get_queues='timeseries(all)',\n",
    "    levels='timeseries(all)'\n",
    ")\n",
    "fuel_pump = sim.store(GAS_STATION_SIZE, GAS_STATION_SIZE, collect=dc)\n",
    "sim.process(gas_station_control, sim, fuel_pump)\n",
    "sim.process(car_generator, sim, gas_station, fuel_pump)\n",
    "sim.run(until=1000)\n",
    "dc.report(sim.now)\n"
   ]
  },
  {
   "cell_type": "code",
   "execution_count": 34,
   "metadata": {},
   "outputs": [
    {
     "data": {
      "image/png": "[encoded data removed]",
      "text/plain": [
       "<Figure size 432x288 with 1 Axes>"
      ]
     },
     "metadata": {
      "needs_background": "light"
     },
     "output_type": "display_data"
    }
   ],
   "source": [
    "import matplotlib.pyplot as plt\n",
    "levels = dc.levels.data()\n",
    "plt.step(*zip(*levels), where='post')\n",
    "plt.xlabel('time')\n",
    "plt.ylabel('fuel level at gas station')\n",
    "plt.show()"
   ]
  },
  {
   "cell_type": "code",
   "execution_count": 38,
   "metadata": {},
   "outputs": [
    {
     "name": "stdout",
     "output_type": "stream",
     "text": [
      "messages (timeseries): samples=48\n",
      "  data=[(0.5389162854563174, 1), (1, 0), (2.254685865860081, 2)] ...\n",
      "  avg=6.45331\n"
     ]
    }
   ],
   "source": [
    "# %load '../examples/misc/delivery-dc.py'\n",
    "import simulus\n",
    "\n",
    "from random import seed, expovariate, randint\n",
    "seed(12345)\n",
    "\n",
    "def generate():\n",
    "    num = 0\n",
    "    while True:\n",
    "        sim.sleep(expovariate(1))\n",
    "        for _ in range(randint(1,5)): # send a bunch\n",
    "            mb.send(num)\n",
    "            num += 1\n",
    "\n",
    "def get_one():\n",
    "    while True:\n",
    "        sim.sleep(1)\n",
    "        msg = mb.recv(isall=False)\n",
    "\n",
    "def get_all():\n",
    "    while True:\n",
    "        sim.sleep(5)\n",
    "        msgs = mb.recv()\n",
    "\n",
    "sim = simulus.simulator()\n",
    "dc = simulus.DataCollector(messages='timeseries(all)')\n",
    "mb = sim.mailbox(collect=dc)\n",
    "sim.process(generate)\n",
    "sim.process(get_one)\n",
    "sim.process(get_all)\n",
    "sim.run(22)\n",
    "dc.report(sim.now)\n"
   ]
  },
  {
   "cell_type": "code",
   "execution_count": 39,
   "metadata": {},
   "outputs": [
    {
     "data": {
      "image/png": "[encoded data removed]",
      "text/plain": [
       "<Figure size 432x288 with 1 Axes>"
      ]
     },
     "metadata": {
      "needs_background": "light"
     },
     "output_type": "display_data"
    }
   ],
   "source": [
    "import matplotlib.pyplot as plt\n",
    "\n",
    "msgs = dc.messages.data()\n",
    "plt.step(*zip(*msgs), where='post')\n",
    "plt.xlabel('time')\n",
    "plt.ylabel('number of messages')\n",
    "plt.show()\n"
   ]
  },
  {
   "cell_type": "code",
   "execution_count": null,
   "metadata": {},
   "outputs": [],
   "source": []
  }
 ],
 "metadata": {
  "kernelspec": {
   "display_name": "Python 3",
   "language": "python",
   "name": "python3"
  },
  "language_info": {
   "codemirror_mode": {
    "name": "ipython",
    "version": 3
   },
   "file_extension": ".py",
   "mimetype": "text/x-python",
   "name": "python",
   "nbconvert_exporter": "python",
   "pygments_lexer": "ipython3",
   "version": "3.7.3"
  }
 },
 "nbformat": 4,
 "nbformat_minor": 2
}
