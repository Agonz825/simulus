{
 "cells": [
  {
   "cell_type": "markdown",
   "metadata": {},
   "source": [
    "## Useful Tips\n",
    "\n",
    "In this section, we discuss some of the useful mechanisms in simulus to help accomplish modeling tasks.\n",
    "\n",
    "### Pseudo-Random Numbers\n",
    "\n",
    "So far we have been using Python's `random` module to generate all the needed pseudo-random numbers in our examples. One can also use `numpy.random` to generate random numbers. Both generators use Mersenne twister, which has very good random properties. Using `numpy.random` has a couple of advantages: one is that it provides more random distributions; the other is that the numpy module can be used to generate numpy arrays vert efficiently. Of course, using `numpy.random` requires numpy to be installed. \n",
    "\n",
    "The following shows the single-server queue example which we discussed earlier, but this time, we use different random distributions for the inter-arrival time and the service time. We use a Pareto distribution for the arrivals and a Gamma distribution for services."
   ]
  },
  {
   "cell_type": "code",
   "execution_count": null,
   "metadata": {},
   "outputs": [],
   "source": [
    "import numpy # assuming numpy has been installed\n",
    "import simulus\n",
    "\n",
    "numpy.random.seed(123)\n",
    "\n",
    "def job(idx):\n",
    "    r.acquire()\n",
    "    print(\"%g: job(%d) gains access\" % (sim.now,idx))\n",
    "    sim.sleep(numpy.random.gamma(2, 2))\n",
    "    print(\"%g: job(%d) releases\" % (sim.now,idx))\n",
    "    r.release()\n",
    "\n",
    "def arrival():\n",
    "    i = 0\n",
    "    while True:\n",
    "        i += 1\n",
    "        sim.sleep(numpy.random.pareto(0.95))\n",
    "        print(\"%g: job(%d) arrives\" % (sim.now,i))\n",
    "        sim.process(job, i)\n",
    "\n",
    "sim = simulus.simulator()\n",
    "r = sim.resource()\n",
    "sim.process(arrival)\n",
    "sim.run(10)\n"
   ]
  },
  {
   "cell_type": "markdown",
   "metadata": {},
   "source": [
    "Actually, all our examples use the module's default random generator (`random` or `numpy.random`). All the functions supplied by the module are actually bound methods of a hidden instance of the corresponding class (`random.Random` or `numpy.random.RandomState`). Although it's OK for all the examples we have shown, there is a slight problem if we use the module-bound random generator:\n",
    "* When we instantiate more than one simulators, they will share the random sequence. This means the simulation result may be different from running each simulator alone. This could make debugging difficult.\n",
    "* When we run parallel and distributed simulation (as we will discuss later), if all simulation instances start with the same random seed, they would use the same random sequence. This is not a good idea because this would artificially introduce correlations among supposedly independent random processes.\n",
    "\n",
    "Simulus provides an easy way to produce an independent random sequence at each simulator. The simulator's `rng()` method returns a random number generator that's attached to the simulator. There is one and only one such random number generator at each simulator. Internally, the generator is created with a seed taken from the `random` module's default random sequence (which is supposed to be seeded with the same constant), and the name of the simulator (which is supposed to be uniquely chosen by the user, or by simulus using the default random sequence if the simulator is created anonymously). Consequently, the random sequence will be consistant (across different runs and on differnt parallel machines) and guaranteed to be independent among simulators, as long as we use the same random seed to start the simulation. "
   ]
  },
  {
   "cell_type": "code",
   "execution_count": 8,
   "metadata": {},
   "outputs": [
    {
     "name": "stdout",
     "output_type": "stream",
     "text": [
      "0.295163: job(1) arrives\n",
      "0.295163: job(1) gains access\n",
      "1.84229: job(1) releases\n",
      "7.29799: job(2) arrives\n",
      "7.29799: job(2) gains access\n",
      "7.30716: job(3) arrives\n",
      "8.62792: job(2) releases\n",
      "8.62792: job(3) gains access\n",
      "8.80694: job(3) releases\n",
      "9.95584: job(4) arrives\n",
      "9.95584: job(4) gains access\n",
      "9.96089: job(5) arrives\n"
     ]
    }
   ],
   "source": [
    "# %load \"../examples/misc/mm1-numpy.py\"\n",
    "import numpy # assuming numpy has been installed\n",
    "import random, simulus\n",
    "\n",
    "# this determines the random module's default random sequence\n",
    "random.seed(123)\n",
    "\n",
    "def job(idx):\n",
    "    r.acquire()\n",
    "    print(\"%g: job(%d) gains access\" % (sim.now,idx))\n",
    "    sim.sleep(rng.gamma(2, 2))\n",
    "    print(\"%g: job(%d) releases\" % (sim.now,idx))\n",
    "    r.release()\n",
    "\n",
    "def arrival():\n",
    "    i = 0\n",
    "    while True:\n",
    "        i += 1\n",
    "        sim.sleep(rng.pareto(0.95))\n",
    "        print(\"%g: job(%d) arrives\" % (sim.now,i))\n",
    "        sim.process(job, i)\n",
    "\n",
    "sim = simulus.simulator('unique_name')\n",
    "rng = numpy.random.RandomState(sim.rng().randrange(2**32))\n",
    "r = sim.resource()\n",
    "sim.process(arrival)\n",
    "sim.run(10)\n"
   ]
  },
  {
   "cell_type": "markdown",
   "metadata": {},
   "source": [
    "In the above example, we create a numpy random number generator `rng` and seed it using the simulator's attached generator. The simulator is also named. In this case, the random number sequence from `rng` is going to be dependent only on the initial random seed 123, regardless whether the simulator is running together with other simulators or as part of a parallel simulation on different ranks. "
   ]
  },
  {
   "cell_type": "markdown",
   "metadata": {},
   "source": [
    "### Statistical Data Collection"
   ]
  },
  {
   "cell_type": "code",
   "execution_count": null,
   "metadata": {},
   "outputs": [],
   "source": [
    "%matplotlib inline\n",
    "import matplotlib.pyplot as plt"
   ]
  },
  {
   "cell_type": "code",
   "execution_count": null,
   "metadata": {},
   "outputs": [],
   "source": []
  }
 ],
 "metadata": {
  "kernelspec": {
   "display_name": "Python 3",
   "language": "python",
   "name": "python3"
  }
 },
 "nbformat": 4,
 "nbformat_minor": 2
}
