{
 "cells": [
  {
   "cell_type": "markdown",
   "metadata": {},
   "source": [
    "## Introduction to Queuing Models\n",
    "\n",
    "The operation of many systems can be abstracted as queuing models, where customers arrive at a system requesting for services. If no server is available at the time, the customers will wait in queue. When a server becomes available, a customer will be served, after which the customer will leave the system. \n",
    "\n",
    "Queuing models can be applied in many situations: customers in banks, machines at repair shops, telephone calls at call-centers, cars on road, jobs in computer systems, packets in networks, and so on. The word \"customers\" here can take on different meanings in different contexts. They can be people, machines, telephone calls, cars, computing jobs, and networks packets. Similarly, the word \"servers\" here can also mean different things in different contexts: bank tellers, mechanics, receptionists, road lanes, traffic lights, processors, computing devices, network switches and routers.    \n",
    "\n",
    "<img src=\"traffic-jam.jpg\" align=\"left\" width=\"50%\">\n",
    "\n"
   ]
  },
  {
   "cell_type": "markdown",
   "metadata": {},
   "source": [
    "A queuing model can be characterized by five components: the calling population, the arrival process, the service mechanism, the capacity of the system, and the queuing discipline: \n",
    "* Customers arrive at the system from what is called a *calling population*. The calling population can be finite or infinite. A closed system with a fixed number of customers has a finite calling population. But in most common cases, the queuing models handle infinite calling population.\n",
    "* The arrival process describes how the customers arrive at the system: Are they coming in batches? What is the inter-arrival time? \n",
    "* The service mechanism describes the number of servers in the system, what is the service time distribution, and whether each server has its own queue or they all share a common queue. \n",
    "* The capacity of the system specifies whether there is a limit to the number of customers in the system (including those waiting in the queue and those currently being served). \n",
    "* The queuing discipline describes how a server chooses the customers to be served. Common queuing disciplines include FIFO (first in first out), LIFO (last in first out), SIRO (service in random order), and Priority (based on the importance of the customer, such as shortest processing time first). \n",
    "\n",
    "A common notation of a queuing model is **A/B/c/N/K**, where **A** represents the arrival process, **B** represents the service-time distribution, **c** is the number of servers, **N** is the system capacity, and **K** is the size of the calling population. **A** and **B** can use common symbols to describe the inter-arrival and service time distributions, such as M (for Markovian, or exponential), D (for deterministic), and G (for general). Also, when **N** and **K** are infinite, they are ususally dropped from the notation."
   ]
  },
  {
   "cell_type": "code",
   "execution_count": null,
   "metadata": {},
   "outputs": [],
   "source": []
  }
 ],
 "metadata": {
  "kernelspec": {
   "display_name": "Python 3",
   "language": "python",
   "name": "python3"
  },
  "language_info": {
   "codemirror_mode": {
    "name": "ipython",
    "version": 3
   },
   "file_extension": ".py",
   "mimetype": "text/x-python",
   "name": "python",
   "nbconvert_exporter": "python",
   "pygments_lexer": "ipython3",
   "version": "3.7.3"
  }
 },
 "nbformat": 4,
 "nbformat_minor": 2
}
