{
 "cells": [
  {
   "cell_type": "markdown",
   "metadata": {},
   "source": [
    "## Single-Server Queue\n",
    "\n",
    "### Direct Event Scheduling"
   ]
  },
  {
   "cell_type": "code",
   "execution_count": 3,
   "metadata": {},
   "outputs": [
    {
     "ename": "NameError",
     "evalue": "name 'num_arrivals' is not defined",
     "output_type": "error",
     "traceback": [
      "\u001b[0;31m---------------------------------------------------------------------------\u001b[0m",
      "\u001b[0;31mNameError\u001b[0m                                 Traceback (most recent call last)",
      "\u001b[0;32m<ipython-input-3-0497a0a5143b>\u001b[0m in \u001b[0;36m<module>\u001b[0;34m\u001b[0m\n\u001b[1;32m     46\u001b[0m \u001b[0msim\u001b[0m \u001b[0;34m=\u001b[0m \u001b[0msimulus\u001b[0m\u001b[0;34m.\u001b[0m\u001b[0msimulator\u001b[0m\u001b[0;34m(\u001b[0m\u001b[0;34m'ssq'\u001b[0m\u001b[0;34m)\u001b[0m\u001b[0;34m\u001b[0m\u001b[0;34m\u001b[0m\u001b[0m\n\u001b[1;32m     47\u001b[0m \u001b[0msim\u001b[0m\u001b[0;34m.\u001b[0m\u001b[0msched\u001b[0m\u001b[0;34m(\u001b[0m\u001b[0marrive\u001b[0m\u001b[0;34m,\u001b[0m \u001b[0msim\u001b[0m\u001b[0;34m,\u001b[0m \u001b[0moffset\u001b[0m\u001b[0;34m=\u001b[0m\u001b[0miatime\u001b[0m\u001b[0;34m(\u001b[0m\u001b[0msim\u001b[0m\u001b[0;34m.\u001b[0m\u001b[0mrng\u001b[0m\u001b[0;34m(\u001b[0m\u001b[0;34m)\u001b[0m\u001b[0;34m)\u001b[0m\u001b[0;34m)\u001b[0m\u001b[0;34m\u001b[0m\u001b[0;34m\u001b[0m\u001b[0m\n\u001b[0;32m---> 48\u001b[0;31m \u001b[0msim\u001b[0m\u001b[0;34m.\u001b[0m\u001b[0mrun\u001b[0m\u001b[0;34m(\u001b[0m\u001b[0;36m10\u001b[0m\u001b[0;34m)\u001b[0m\u001b[0;34m\u001b[0m\u001b[0;34m\u001b[0m\u001b[0m\n\u001b[0m",
      "\u001b[0;32m~/sync-workspace/projects/simulus/simulus/simulator.py\u001b[0m in \u001b[0;36mrun\u001b[0;34m(self, offset, until)\u001b[0m\n\u001b[1;32m    837\u001b[0m             \u001b[0mt\u001b[0m \u001b[0;34m=\u001b[0m \u001b[0mself\u001b[0m\u001b[0;34m.\u001b[0m\u001b[0m_eventlist\u001b[0m\u001b[0;34m.\u001b[0m\u001b[0mget_min\u001b[0m\u001b[0;34m(\u001b[0m\u001b[0;34m)\u001b[0m\u001b[0;34m\u001b[0m\u001b[0;34m\u001b[0m\u001b[0m\n\u001b[1;32m    838\u001b[0m             \u001b[0;32mif\u001b[0m \u001b[0mt\u001b[0m \u001b[0;34m>\u001b[0m \u001b[0mupper\u001b[0m\u001b[0;34m:\u001b[0m \u001b[0;32mbreak\u001b[0m\u001b[0;34m\u001b[0m\u001b[0;34m\u001b[0m\u001b[0m\n\u001b[0;32m--> 839\u001b[0;31m             \u001b[0mself\u001b[0m\u001b[0;34m.\u001b[0m\u001b[0m_process_one_event\u001b[0m\u001b[0;34m(\u001b[0m\u001b[0;34m)\u001b[0m\u001b[0;34m\u001b[0m\u001b[0;34m\u001b[0m\u001b[0m\n\u001b[0m\u001b[1;32m    840\u001b[0m \u001b[0;34m\u001b[0m\u001b[0m\n\u001b[1;32m    841\u001b[0m         \u001b[0;31m# after all the events, make sure we don't wind back the clock\u001b[0m\u001b[0;34m\u001b[0m\u001b[0;34m\u001b[0m\u001b[0;34m\u001b[0m\u001b[0m\n",
      "\u001b[0;32m~/sync-workspace/projects/simulus/simulus/simulator.py\u001b[0m in \u001b[0;36m_process_one_event\u001b[0;34m(self)\u001b[0m\n\u001b[1;32m    938\u001b[0m                 \u001b[0mself\u001b[0m\u001b[0;34m.\u001b[0m\u001b[0m_eventlist\u001b[0m\u001b[0;34m.\u001b[0m\u001b[0minsert\u001b[0m\u001b[0;34m(\u001b[0m\u001b[0me\u001b[0m\u001b[0;34m.\u001b[0m\u001b[0mrenew\u001b[0m\u001b[0;34m(\u001b[0m\u001b[0me\u001b[0m\u001b[0;34m.\u001b[0m\u001b[0mtime\u001b[0m\u001b[0;34m+\u001b[0m\u001b[0me\u001b[0m\u001b[0;34m.\u001b[0m\u001b[0mrepeat_intv\u001b[0m\u001b[0;34m)\u001b[0m\u001b[0;34m)\u001b[0m\u001b[0;34m\u001b[0m\u001b[0;34m\u001b[0m\u001b[0m\n\u001b[1;32m    939\u001b[0m             \u001b[0;31m#e.func(self, e.params)\u001b[0m\u001b[0;34m\u001b[0m\u001b[0;34m\u001b[0m\u001b[0;34m\u001b[0m\u001b[0m\n\u001b[0;32m--> 940\u001b[0;31m             \u001b[0me\u001b[0m\u001b[0;34m.\u001b[0m\u001b[0mfunc\u001b[0m\u001b[0;34m(\u001b[0m\u001b[0;34m*\u001b[0m\u001b[0me\u001b[0m\u001b[0;34m.\u001b[0m\u001b[0margs\u001b[0m\u001b[0;34m,\u001b[0m \u001b[0;34m**\u001b[0m\u001b[0me\u001b[0m\u001b[0;34m.\u001b[0m\u001b[0mkwargs\u001b[0m\u001b[0;34m)\u001b[0m\u001b[0;34m\u001b[0m\u001b[0;34m\u001b[0m\u001b[0m\n\u001b[0m\u001b[1;32m    941\u001b[0m         \u001b[0;32melif\u001b[0m \u001b[0misinstance\u001b[0m\u001b[0;34m(\u001b[0m\u001b[0me\u001b[0m\u001b[0;34m,\u001b[0m \u001b[0m_ProcessEvent\u001b[0m\u001b[0;34m)\u001b[0m\u001b[0;34m:\u001b[0m\u001b[0;34m\u001b[0m\u001b[0;34m\u001b[0m\u001b[0m\n\u001b[1;32m    942\u001b[0m             \u001b[0me\u001b[0m\u001b[0;34m.\u001b[0m\u001b[0mproc\u001b[0m\u001b[0;34m.\u001b[0m\u001b[0mactivate\u001b[0m\u001b[0;34m(\u001b[0m\u001b[0;34m)\u001b[0m\u001b[0;34m\u001b[0m\u001b[0;34m\u001b[0m\u001b[0m\n",
      "\u001b[0;32m<ipython-input-3-0497a0a5143b>\u001b[0m in \u001b[0;36marrive\u001b[0;34m(sim)\u001b[0m\n\u001b[1;32m     18\u001b[0m \u001b[0;34m\u001b[0m\u001b[0m\n\u001b[1;32m     19\u001b[0m \u001b[0;32mdef\u001b[0m \u001b[0marrive\u001b[0m\u001b[0;34m(\u001b[0m\u001b[0msim\u001b[0m\u001b[0;34m)\u001b[0m\u001b[0;34m:\u001b[0m\u001b[0;34m\u001b[0m\u001b[0;34m\u001b[0m\u001b[0m\n\u001b[0;32m---> 20\u001b[0;31m     \u001b[0mqueue\u001b[0m\u001b[0;34m.\u001b[0m\u001b[0mappend\u001b[0m\u001b[0;34m(\u001b[0m\u001b[0;34m(\u001b[0m\u001b[0mnum_arrivals\u001b[0m\u001b[0;34m,\u001b[0m \u001b[0msim\u001b[0m\u001b[0;34m.\u001b[0m\u001b[0mnow\u001b[0m\u001b[0;34m)\u001b[0m\u001b[0;34m)\u001b[0m\u001b[0;34m\u001b[0m\u001b[0;34m\u001b[0m\u001b[0m\n\u001b[0m\u001b[1;32m     21\u001b[0m     print('%g: job[%d] arrives (jobs_in_system=%d)' % \n\u001b[1;32m     22\u001b[0m           (sim.now, num_arrivals, len(queue)))\n",
      "\u001b[0;31mNameError\u001b[0m: name 'num_arrivals' is not defined"
     ]
    }
   ],
   "source": [
    "from collections import deque\n",
    "import random, simulus\n",
    "\n",
    "# set the global random seed for repeatability\n",
    "random.seed(13579)\n",
    "\n",
    "MEAN_IATIME = 1.0 # mean inter-arrival time\n",
    "MEAN_STIME = 0.8 # mean service time\n",
    "\n",
    "def iatime(rng): \n",
    "    return rng.expovariate(1/MEAN_IATIME)\n",
    "\n",
    "def svtime(rng):\n",
    "    return rng.expovariate(1/MEAN_STIME)\n",
    "\n",
    "# all jobs in system are stored here\n",
    "queue = deque()\n",
    "\n",
    "def arrive(sim):\n",
    "    queue.append((num_arrivals, sim.now))\n",
    "    print('%g: job[%d] arrives (jobs_in_system=%d)' % \n",
    "          (sim.now, num_arrivals, len(queue)))\n",
    "\n",
    "    # schedule next job's arrival\n",
    "    sim.sched(arrive, sim, offset=iatime(sim.rng()))\n",
    "    \n",
    "    if len(queue) == 1:\n",
    "        # no one was in service, there's no need to wait\n",
    "        print('%g: job[%d] enters service (queue_time=0)' % \n",
    "              (sim.now, queue[0][0]))\n",
    "        \n",
    "        # schedule the job's departure\n",
    "        sim.sched(depart, sim, offset=svtime(sim.rng()))\n",
    "        \n",
    "def depart(sim):\n",
    "    j, t = queue.popleft()\n",
    "    print('%g: job[%d] departs (time_in_system=%g, jobs_in_system=%d)' % \n",
    "          (sim.now, j, sim.now-t, len(queue)))\n",
    "    \n",
    "    if len(queue) > 0:\n",
    "        # there is waiting job, serve the next one\n",
    "        print('%g: job[%d] enters service (queue_time=%g)' % \n",
    "              (sim.now, queue[0][0], sim.now-queue[0][1]))\n",
    "        sim.sched(depart, sim, offset=svtime(sim.rng()))\n",
    "        \n",
    "sim = simulus.simulator('ssq')\n",
    "sim.sched(arrive, sim, offset=iatime(sim.rng()))\n",
    "sim.run(10)"
   ]
  },
  {
   "cell_type": "markdown",
   "metadata": {},
   "source": [
    "### Processes and Resource"
   ]
  },
  {
   "cell_type": "code",
   "execution_count": null,
   "metadata": {},
   "outputs": [],
   "source": [
    "import random, simulus\n",
    "\n",
    "# set the global random seed for repeatability\n",
    "random.seed(13579)\n",
    "\n",
    "MEAN_IATIME = 1.0 # mean inter-arrival time\n",
    "MEAN_STIME = 0.8 # mean service time\n",
    "\n",
    "def iatime(rng): \n",
    "    return rng.expovariate(1/MEAN_IATIME)\n",
    "\n",
    "def svtime(rng):\n",
    "    return rng.expovariate(1/MEAN_STIME)\n",
    "\n",
    "def job(sim, job_id, rsc):\n",
    "    t = sim.now\n",
    "    print('%g: job[%d] arrives (jobs_in_system=%d)' % \n",
    "          (sim.now, job_id, rsc.num_in_system()+1))\n",
    "    \n",
    "    rsc.acquire()\n",
    "    print('%g: job[%d] enters service (queue_time=%g)' % \n",
    "          (sim.now, job_id, sim.now-t))\n",
    "    \n",
    "    sim.sleep(svtime(sim.rng()))\n",
    "    rsc.release()\n",
    "    print('%g: job[%d] departs (time_in_system=%g, jobs_in_system=%d)' % \n",
    "          (sim.now, job_id, sim.now-t, rsc.num_in_system()))\n",
    "    \n",
    "def arrive(sim, rsc):\n",
    "    job_id = 0\n",
    "    while True:\n",
    "        sim.sleep(iatime(sim.rng()))\n",
    "        sim.process(job, sim, job_id, rsc)\n",
    "        job_id += 1\n",
    "\n",
    "sim = sm.simulator('ssq')\n",
    "rsc = sim.resource()\n",
    "sim.process(arrive, sim, rsc)\n",
    "sim.run(10)"
   ]
  }
 ],
 "metadata": {
  "kernelspec": {
   "display_name": "Python 3",
   "language": "python",
   "name": "python3"
  },
  "language_info": {
   "codemirror_mode": {
    "name": "ipython",
    "version": 3
   },
   "file_extension": ".py",
   "mimetype": "text/x-python",
   "name": "python",
   "nbconvert_exporter": "python",
   "pygments_lexer": "ipython3",
   "version": "3.7.3"
  }
 },
 "nbformat": 4,
 "nbformat_minor": 2
}
