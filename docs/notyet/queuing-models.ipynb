{
 "cells": [
  {
   "cell_type": "markdown",
   "metadata": {},
   "source": [
    "# Queuing Models\n",
    "\n",
    "<img src=\"queue.jpg\" align=\"right\" width=\"30%\" alt=\"queue\">\n",
    "\n",
    "This tutorial describes how to use simulus to simulate queuing models. Simulus aspires to be a part of the Python ecosystem supporting scientific computing. It consists of several Jupyter notebooks, on which we run the simulation code. The tutorial requires the following Python packages:\n",
    "* **jupyter**: a web application for sharing interactive documents that contain text, code, and data visualization\n",
    "* **numpy**: a library for efficient representation of multi-dimensional arrays\n",
    "* **scipy**: a library for numerical computations, including linear algebra and statistics\n",
    "* **matplotlib**: a 2D plotting library\n",
    "\n",
    "You can install these packages via commands such as:\n",
    "\n",
    "```\n",
    "python -m pip install --user jupyter numpy scipy matplotlib\n",
    "```\n",
    "\n",
    "Of course, you'll need to install simulus too. Check out [Quick Start](https://simulus.readthedocs.io/en/latest/readme.html) for simulus installation instructions. Basically, you can install simulus via commands such as:\n",
    "\n",
    "```\n",
    "python -m pip install --user simulus\n",
    "```\n",
    "\n",
    "## Setting up the Environment\n",
    "\n",
    "Make sure you are able to the run the following cell. If an error occurs, it means you are missing some needed packages. If that happens, you need to install the missing packages and restart the notebook to continue with the tutorial."
   ]
  },
  {
   "cell_type": "code",
   "execution_count": 2,
   "metadata": {},
   "outputs": [],
   "source": [
    "# for random distributions, random number generators, statistics\n",
    "import random\n",
    "import numpy as np\n",
    "import scipy.stats as stats\n",
    "\n",
    "# the simulation\n",
    "import simulus\n",
    "\n",
    "# for data visualization\n",
    "import matplotlib.pyplot as plt\n",
    "%matplotlib inline\n",
    "\n",
    "# for animation inside the notebook\n",
    "from ipywidgets import interact\n",
    "import ipywidgets as widgets"
   ]
  },
  {
   "cell_type": "markdown",
   "metadata": {},
   "source": [
    "## Table of Contents\n",
    "\n",
    "* [Introduction to Queuing Models](qconcepts.ipynb)\n",
    "* [Pseudo-Random Number Generation for Simulation](prng.ipynb)\n",
    "* [Single-Server Queue](ssq.ipynb)"
   ]
  },
  {
   "cell_type": "code",
   "execution_count": null,
   "metadata": {},
   "outputs": [],
   "source": []
  }
 ],
 "metadata": {
  "kernelspec": {
   "display_name": "Python 3",
   "language": "python",
   "name": "python3"
  },
  "language_info": {
   "codemirror_mode": {
    "name": "ipython",
    "version": 3
   },
   "file_extension": ".py",
   "mimetype": "text/x-python",
   "name": "python",
   "nbconvert_exporter": "python",
   "pygments_lexer": "ipython3",
   "version": "3.7.3"
  }
 },
 "nbformat": 4,
 "nbformat_minor": 2
}
