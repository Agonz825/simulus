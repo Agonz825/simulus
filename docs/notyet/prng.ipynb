{
 "cells": [
  {
   "cell_type": "markdown",
   "metadata": {},
   "source": [
    "## Pseudo-Random Number Generation in Simulation\n",
    "\n",
    "Make sure you are able to the run the following cell. It'd prompt errors if you are missing the needed packages before you continue with this tutorial. If that happens, you need to install the missing packages and restart the notebook."
   ]
  },
  {
   "cell_type": "code",
   "execution_count": null,
   "metadata": {},
   "outputs": [],
   "source": [
    "# for random distributions, random number generators, statistics\n",
    "import random\n",
    "import numpy as np\n",
    "import scipy.stats as stats\n",
    "\n",
    "# the simulation\n",
    "import simulus\n",
    "\n",
    "# for data visualization\n",
    "import matplotlib.pyplot as plt\n",
    "%matplotlib inline\n",
    "\n",
    "# for animation inside the notebook\n",
    "from ipywidgets import interact\n",
    "import ipywidgets as widgets\n"
   ]
  },
  {
   "cell_type": "markdown",
   "metadata": {},
   "source": [
    "For this tutorial, we will use the `scipy.stats` module for random number generation. Python's  native `random` module can also be used for this purpose. In fact, `simulus` uses the `random` module as its core random number generator. But the `scipy.stats` module contains a huge number of probability distributions (more than 120 of them) and many useful statistical functions, which would be be extremely useful for any simulation tasks in general, and of course, would be more than sufficient for our tutorial.\n",
    "\n",
    "The `scipy.stats` module uses the pseudo-random number generator provided by `numpy`. Both `numpy` and Python's `random` module use the Mersenne Twister as the core generator. This generator produces 53-bit precision floats and has a period of $2^{19937}-1$ and very good random properties."
   ]
  },
  {
   "cell_type": "markdown",
   "metadata": {},
   "source": [
    "### Random Variables in `scipy.stats`\n",
    "\n",
    "The `scipy.stats` module contains a large number of probability distributions. Let's first examine a few. One of the most common distribution used in simulation is the exponential distribution. The function `expon(scale)` creates an exponential random variable with the parameter 'scale' being the mean of the distribution. "
   ]
  },
  {
   "cell_type": "code",
   "execution_count": null,
   "metadata": {},
   "outputs": [],
   "source": [
    "x = stats.expon(scale=2)\n",
    "print(x)"
   ]
  },
  {
   "cell_type": "markdown",
   "metadata": {},
   "source": [
    "We can eaily find the mean, the median, and the standard deviation of the random variable:"
   ]
  },
  {
   "cell_type": "code",
   "execution_count": null,
   "metadata": {},
   "outputs": [],
   "source": [
    "x.mean(), x.median(), x.std()"
   ]
  },
  {
   "cell_type": "markdown",
   "metadata": {},
   "source": [
    "We can also use the `stats(moments)` method to find the mean(‘m’), variance (‘v’), skew (‘s’), and kurtosis(‘k’), where 'moments' specifies which we would like to have. In the following example, we want all of them:    "
   ]
  },
  {
   "cell_type": "code",
   "execution_count": null,
   "metadata": {},
   "outputs": [],
   "source": [
    "m, v, s, k = x.stats(moments='mvsk')\n",
    "print('mean=%g, var=%g, skew=%g, kurtosis=%g' % (m, v, s, k))"
   ]
  },
  {
   "cell_type": "markdown",
   "metadata": {},
   "source": [
    "We can also plot the probability density function (pdf) and the cumulative density function (cdf) of the random variable. In the following, we first define a couple of functions for plotting:"
   ]
  },
  {
   "cell_type": "code",
   "execution_count": null,
   "metadata": {},
   "outputs": [],
   "source": [
    "# a generic function for plotting a random variable\n",
    "def plot_rv(rv, title, xmin=None, xmax=None):\n",
    "    # find the range we'd like to draw (ppf() is the inverse cdf)\n",
    "    if xmin is None:\n",
    "        xmin = rv.ppf(0.01)\n",
    "    if xmax is None:\n",
    "        xmax = rv.ppf(0.99)\n",
    "\n",
    "    # get the data points for pdf and cdf\n",
    "    xs = np.linspace(xmin, xmax, 100)\n",
    "    ys = rv.pdf(xs)\n",
    "    yys = rv.cdf(xs)\n",
    "    \n",
    "    plt.fill_between(xs, ys, color='#7fc97f', alpha=0.7)\n",
    "    plt.plot(xs, ys, color='#7fc97f', lw=3, alpha=0.9, label='pdf')\n",
    "\n",
    "    plt.fill_between(xs, yys, color='#beaed4', alpha=0.7)\n",
    "    plt.plot(xs, yys, color='#beaed4', lw=3, alpha=0.9, label='cdf')\n",
    "    \n",
    "    plt.title(title)\n",
    "    plt.xlim(xmin, xmax)\n",
    "    plt.ylim(0)\n",
    "    plt.legend()\n",
    "    plt.show()\n",
    "    "
   ]
  },
  {
   "cell_type": "code",
   "execution_count": null,
   "metadata": {},
   "outputs": [],
   "source": [
    "# create an exponentially distributed random variable with \n",
    "# the given scale (mean) and use the above function to plot it \n",
    "def plot_expon(scale):\n",
    "    rv = stats.expon(scale=scale)\n",
    "    plot_rv(rv, \"exponential (scale=%g)\" % scale)"
   ]
  },
  {
   "cell_type": "markdown",
   "metadata": {},
   "source": [
    "Now we are ready to plot an exponential distribution:"
   ]
  },
  {
   "cell_type": "code",
   "execution_count": null,
   "metadata": {
    "scrolled": true
   },
   "outputs": [],
   "source": [
    "plot_expon(2.0)"
   ]
  },
  {
   "cell_type": "markdown",
   "metadata": {},
   "source": [
    "We can also dynamically change the 'scale' parameter (using a slider) and plot the distribution on the fly. In the following, move the slider to change the scale value."
   ]
  },
  {
   "cell_type": "code",
   "execution_count": null,
   "metadata": {},
   "outputs": [],
   "source": [
    "slider = widgets.FloatSlider(min=0.1, max=5, value=2)\n",
    "interact(plot_expon, scale=slider)\n",
    "None"
   ]
  },
  {
   "cell_type": "markdown",
   "metadata": {},
   "source": [
    "Let's do the same for two other distributions just for fun:"
   ]
  },
  {
   "cell_type": "code",
   "execution_count": null,
   "metadata": {},
   "outputs": [],
   "source": [
    "def plot_gamma(a, scale):\n",
    "    rv = stats.gamma(a=a, scale=scale)\n",
    "    plot_rv(rv, \"gamma (a=%g, scale=%g)\" % (a,scale))\n",
    "\n",
    "slider_a = widgets.FloatSlider(min=0.1, max=5, value=2.5)\n",
    "slider_scale = widgets.FloatSlider(min=0.1, max=5, value=0.4)\n",
    "interact(plot_gamma, a=slider_a, scale=slider_scale)\n",
    "None"
   ]
  },
  {
   "cell_type": "code",
   "execution_count": null,
   "metadata": {},
   "outputs": [],
   "source": [
    "def plot_norm(loc, scale):\n",
    "    rv = stats.norm(loc=loc, scale=scale)\n",
    "    plot_rv(rv, \"normal (loc=%g, scale=%g)\" % (loc, scale))\n",
    "    \n",
    "slider_loc = widgets.FloatSlider(min=-2, max=2, value=0)\n",
    "slider_scale = widgets.FloatSlider(min=0.1, max=2, value=1)\n",
    "interact(plot_norm, loc=slider_loc, scale=slider_scale)\n",
    "None"
   ]
  },
  {
   "cell_type": "markdown",
   "metadata": {},
   "source": [
    "### Generating Random Variates\n",
    "\n",
    "Once a random variable is created, one can use the `rvs(size)` method to draw random samples from the given distribution, where the 'size' argument specifies the number of samples. To get repeatable results, we should first set the random seed. Recall that the scipy.stats module uses the pseudo-random number generator provided by the `numpy` module. Therefore we set the random seed using the `numpy.random.seed()` function."
   ]
  },
  {
   "cell_type": "code",
   "execution_count": null,
   "metadata": {},
   "outputs": [],
   "source": [
    "x = stats.expon(scale=2.0)\n",
    "\n",
    "# get the first 1000 random samples and show the first 3 \n",
    "np.random.seed(13579)\n",
    "xs1 = x.rvs(1000)\n",
    "print('the first 1000 samples: %r...' % xs1[:3])\n",
    "\n",
    "# get another 1000 random samples and show the first 3\n",
    "np.random.seed(24680)\n",
    "xs2 = x.rvs(1000)\n",
    "print('the second 1000 samples: %r...' % xs2[:3])"
   ]
  },
  {
   "cell_type": "code",
   "execution_count": null,
   "metadata": {},
   "outputs": [],
   "source": [
    "# if we reset the random seed, we should get the same sequence\n",
    "np.random.seed(13579)\n",
    "xs1 = x.rvs(1000)\n",
    "print('repeat the first 1000 samples: %r...' % xs1[:3])\n",
    "\n",
    "np.random.seed(24680)\n",
    "xs2 = x.rvs(1000)\n",
    "print('repeat the second 1000 samples: %r...' % xs2[:3])"
   ]
  },
  {
   "cell_type": "markdown",
   "metadata": {},
   "source": [
    "To make sure that the random number are indeed drawn from the expected random distribution, we can plot the histogram of the samples and compare that with the true distribution."
   ]
  },
  {
   "cell_type": "code",
   "execution_count": null,
   "metadata": {
    "scrolled": true
   },
   "outputs": [],
   "source": [
    "plt.figure(figsize=(10,5))\n",
    "\n",
    "xmin, xmax = rv.ppf(0.001), rv.ppf(0.999)\n",
    "xs = np.linspace(xmin, xmax, 100)\n",
    "ys = x.pdf(xs)\n",
    "\n",
    "axs = plt.subplot(1, 2, 1)\n",
    "axs.hist(xs1, alpha=0.5, bins='auto', density=True)\n",
    "axs.plot(xs, ys, 'r-')\n",
    "axs.set_xlim(xmin, xmax)\n",
    "axs.set_title(\"histogram of xs1\")\n",
    "\n",
    "axs = plt.subplot(1, 2, 2)\n",
    "axs.hist(xs2, alpha=0.5, bins='auto', density=True)\n",
    "axs.plot(xs, ys, 'r-')\n",
    "axs.set_xlim(xmin, xmax)\n",
    "axs.set_title(\"histogram of xs2\")\n",
    "\n",
    "plt.show()"
   ]
  },
  {
   "cell_type": "markdown",
   "metadata": {},
   "source": [
    "### Repeatable Random Sequences for Simulation"
   ]
  },
  {
   "cell_type": "code",
   "execution_count": null,
   "metadata": {
    "scrolled": true
   },
   "outputs": [],
   "source": [
    "random.seed(13597)\n",
    "\n",
    "sim = simulus.simulator('prng')\n",
    "randstreams = [sim.rng().randrange(2**32) for _ in range(10)]\n",
    "print(randstreams)"
   ]
  },
  {
   "cell_type": "code",
   "execution_count": null,
   "metadata": {},
   "outputs": [],
   "source": [
    "def plot_rv_samples(rv, title, xmin=None, xmax=None, samples=1000):\n",
    "    m = rv.mean()\n",
    "    sd = rv.std()\n",
    "    if xmin is None: xmin = m-4*sd\n",
    "    if xmax is None: xmax = m+4*sd\n",
    "    xs = np.linspace(xmin, xmax, 100)\n",
    "    ys = rv.pdf(xs)\n",
    "    yys = rv.cdf(xs)\n",
    "    plt.fill_between(xs, ys, label=\"pdf\", color='#7fc97f', alpha=0.7)\n",
    "    plt.fill_between(xs, yys, label=\"cdf\", color='#beaed4', alpha=0.7)\n",
    "    plt.vlines(m, ymin=0, ymax=rv.cdf(m), color='k', linestyle='--')\n",
    "    plt.hlines(rv.cdf(m), xmin=xmin, xmax=m, color='k', linestyle='--')\n",
    "    plt.text(m, rv.cdf(m), 'mean=%g\\nsd=%g'% (m,sd), fontsize=12)\n",
    "    plt.legend()\n",
    "    v = rv.rvs(samples)\n",
    "    plt.hist(v, density=True, histtype='stepfilled', alpha=0.4, bins=20)\n",
    "    plt.title(title)\n",
    "    plt.xlim(xmin, xmax)\n",
    "    plt.ylim(0)\n",
    "    plt.show()"
   ]
  },
  {
   "cell_type": "code",
   "execution_count": null,
   "metadata": {
    "scrolled": false
   },
   "outputs": [],
   "source": [
    "def plot_expon_samples(scale, samples=1000):\n",
    "    rv = stats.expon(scale=scale)\n",
    "    rv.random_state = seed=np.random.RandomState(randstreams[0])\n",
    "    plot_rv_samples(rv, \"exponential (scale=%g)\" % scale, xmin=0, samples=samples)\n",
    "    \n",
    "plot_expon_samples(1.2)"
   ]
  },
  {
   "cell_type": "code",
   "execution_count": null,
   "metadata": {},
   "outputs": [],
   "source": [
    "slider_scale = widgets.FloatSlider(min=0.1, max=5, value=1.2)\n",
    "slider_samples = widgets.IntSlider(min=10, max=1000, value=100)\n",
    "interact(plot_expon_samples, scale=slider_scale, samples=slider_samples)\n",
    "None"
   ]
  },
  {
   "cell_type": "code",
   "execution_count": null,
   "metadata": {},
   "outputs": [],
   "source": [
    "plot_expon_samples(1.6, 118)"
   ]
  },
  {
   "cell_type": "code",
   "execution_count": null,
   "metadata": {},
   "outputs": [],
   "source": [
    "rv2 = stats.norm(scale=1.2)\n",
    "rv2.random_state = np.random.RandomState(randstreams[1])\n",
    "y = rv2.rvs(1000)\n",
    "y.mean()"
   ]
  },
  {
   "cell_type": "code",
   "execution_count": null,
   "metadata": {},
   "outputs": [],
   "source": [
    "plt.scatter(x,y)"
   ]
  },
  {
   "cell_type": "code",
   "execution_count": null,
   "metadata": {},
   "outputs": [],
   "source": []
  }
 ],
 "metadata": {
  "kernelspec": {
   "display_name": "Python 3",
   "language": "python",
   "name": "python3"
  },
  "language_info": {
   "codemirror_mode": {
    "name": "ipython",
    "version": 3
   },
   "file_extension": ".py",
   "mimetype": "text/x-python",
   "name": "python",
   "nbconvert_exporter": "python",
   "pygments_lexer": "ipython3",
   "version": "3.7.3"
  }
 },
 "nbformat": 4,
 "nbformat_minor": 2
}
