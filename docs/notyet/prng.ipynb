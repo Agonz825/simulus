{
 "cells": [
  {
   "cell_type": "markdown",
   "metadata": {},
   "source": [
    "## Pseudo-Random Number Generation in Simulation\n",
    "\n",
    "Make sure you are able to the run the following cell. If error occurs, it means you are missing the needed packages. If that happens, you need to install the missing packages and restart the notebook to continue with this tutorial."
   ]
  },
  {
   "cell_type": "code",
   "execution_count": null,
   "metadata": {},
   "outputs": [],
   "source": [
    "# for random distributions, random number generators, statistics\n",
    "import random\n",
    "import numpy as np\n",
    "import scipy.stats as stats\n",
    "\n",
    "# the simulation\n",
    "import simulus\n",
    "\n",
    "# for data visualization\n",
    "import matplotlib.pyplot as plt\n",
    "%matplotlib inline\n",
    "\n",
    "# for animation inside the notebook\n",
    "from ipywidgets import interact\n",
    "import ipywidgets as widgets\n"
   ]
  },
  {
   "cell_type": "markdown",
   "metadata": {},
   "source": [
    "For this tutorial, we will use the `scipy.stats` module to generate random numbers. Python's  native `random` module can also be used for this purpose. In fact, `simulus` uses the `random` module as its core random number generator. But the `scipy.stats` module contains a huge number of probability distributions (more than 120 of them!) along with many useful statistical functions, which would be be extremely useful for any simulation tasks, and of course, would be more than sufficient for our tutorial.\n",
    "\n",
    "The `scipy.stats` module uses the pseudo-random number generator provided by `numpy`. Both `numpy` and Python's `random` module use the Mersenne Twister as the core generator. This generator produces 53-bit precision floats and has a period of $2^{19937}-1$. As a result, this generator has very good random properties."
   ]
  },
  {
   "cell_type": "markdown",
   "metadata": {},
   "source": [
    "### Random Variables in `scipy.stats`\n",
    "\n",
    "The `scipy.stats` module contains a large number of probability distributions. Let's first examine a few. One of the most common distribution used in simulation is the exponential distribution. The function `expon(scale)` creates an exponential random variable and the parameter 'scale' is the mean of the distribution. "
   ]
  },
  {
   "cell_type": "code",
   "execution_count": null,
   "metadata": {},
   "outputs": [],
   "source": [
    "x = stats.expon(scale=2)\n",
    "print(x)"
   ]
  },
  {
   "cell_type": "markdown",
   "metadata": {},
   "source": [
    "We can eaily find the mean, the median, and the standard deviation of the random variable:"
   ]
  },
  {
   "cell_type": "code",
   "execution_count": null,
   "metadata": {},
   "outputs": [],
   "source": [
    "x.mean(), x.median(), x.std()"
   ]
  },
  {
   "cell_type": "markdown",
   "metadata": {},
   "source": [
    "We can also use the `stats(moments)` method to find the mean(‘m’), variance (‘v’), skew (‘s’), and kurtosis(‘k’), where the argument 'moments' specifies which we would like to have. In the following example, we want all of them:    "
   ]
  },
  {
   "cell_type": "code",
   "execution_count": null,
   "metadata": {},
   "outputs": [],
   "source": [
    "m, v, s, k = x.stats(moments='mvsk')\n",
    "print('mean=%g, var=%g, skew=%g, kurtosis=%g' % (m, v, s, k))"
   ]
  },
  {
   "cell_type": "markdown",
   "metadata": {},
   "source": [
    "We can also plot the probability density function (pdf) and the cumulative density function (cdf) of the random variable. In the following, we first define a couple of functions for plotting:"
   ]
  },
  {
   "cell_type": "code",
   "execution_count": null,
   "metadata": {},
   "outputs": [],
   "source": [
    "# a generic function for plotting a random variable\n",
    "def plot_rv(rv, title, xmin=None, xmax=None):\n",
    "    # find the range we'd like to draw (ppf() is the inverse cdf)\n",
    "    if xmin is None:\n",
    "        xmin = rv.ppf(0.01)\n",
    "    if xmax is None:\n",
    "        xmax = rv.ppf(0.99)\n",
    "\n",
    "    # get the data points for pdf and cdf\n",
    "    xs = np.linspace(xmin, xmax, 100)\n",
    "    ys = rv.pdf(xs)\n",
    "    yys = rv.cdf(xs)\n",
    "    \n",
    "    plt.fill_between(xs, ys, color='#7fc97f', alpha=0.7)\n",
    "    plt.plot(xs, ys, color='#7fc97f', lw=3, alpha=0.9, label='pdf')\n",
    "\n",
    "    plt.fill_between(xs, yys, color='#beaed4', alpha=0.7)\n",
    "    plt.plot(xs, yys, color='#beaed4', lw=3, alpha=0.9, label='cdf')\n",
    "    \n",
    "    plt.title(title)\n",
    "    plt.xlim(xmin, xmax)\n",
    "    plt.ylim(0)\n",
    "    plt.legend()\n",
    "    plt.show()"
   ]
  },
  {
   "cell_type": "code",
   "execution_count": null,
   "metadata": {},
   "outputs": [],
   "source": [
    "# create an exponentially distributed random variable with \n",
    "# the given scale (mean) and use the above function to plot it \n",
    "def plot_expon(scale):\n",
    "    rv = stats.expon(scale=scale)\n",
    "    plot_rv(rv, \"exponential (scale=%g)\" % scale)"
   ]
  },
  {
   "cell_type": "markdown",
   "metadata": {},
   "source": [
    "Now we are ready to plot the exponential distribution:"
   ]
  },
  {
   "cell_type": "code",
   "execution_count": null,
   "metadata": {
    "scrolled": true
   },
   "outputs": [],
   "source": [
    "plot_expon(2.0)"
   ]
  },
  {
   "cell_type": "markdown",
   "metadata": {},
   "source": [
    "We can also dynamically change the 'scale' parameter (using a slider) and plot the distribution on the fly. In the following, we can move the slider to change the scale value."
   ]
  },
  {
   "cell_type": "code",
   "execution_count": null,
   "metadata": {},
   "outputs": [],
   "source": [
    "slider = widgets.FloatSlider(min=0.1, max=5, value=2)\n",
    "interact(plot_expon, scale=slider)\n",
    "None"
   ]
  },
  {
   "cell_type": "markdown",
   "metadata": {},
   "source": [
    "Let's do the same for two other distributions just for fun:"
   ]
  },
  {
   "cell_type": "code",
   "execution_count": null,
   "metadata": {},
   "outputs": [],
   "source": [
    "def plot_gamma(a, scale):\n",
    "    rv = stats.gamma(a=a, scale=scale)\n",
    "    plot_rv(rv, \"gamma (a=%g, scale=%g)\" % (a,scale))\n",
    "\n",
    "slider_a = widgets.FloatSlider(min=0.1, max=5, value=2.5)\n",
    "slider_scale = widgets.FloatSlider(min=0.1, max=5, value=0.4)\n",
    "interact(plot_gamma, a=slider_a, scale=slider_scale)\n",
    "None"
   ]
  },
  {
   "cell_type": "code",
   "execution_count": null,
   "metadata": {},
   "outputs": [],
   "source": [
    "def plot_norm(loc, scale):\n",
    "    rv = stats.norm(loc=loc, scale=scale)\n",
    "    plot_rv(rv, \"normal (loc=%g, scale=%g)\" % (loc, scale))\n",
    "    \n",
    "slider_loc = widgets.FloatSlider(min=-2, max=2, value=0)\n",
    "slider_scale = widgets.FloatSlider(min=0.1, max=2, value=1)\n",
    "interact(plot_norm, loc=slider_loc, scale=slider_scale)\n",
    "None"
   ]
  },
  {
   "cell_type": "markdown",
   "metadata": {},
   "source": [
    "### Generating Random Variates\n",
    "\n",
    "Once a random variable is created, one can use the `rvs(size)` method to draw random samples from the given distribution, where the 'size' argument specifies the number of samples. To get repeatable results, we should first set a random seed. Recall that the `scipy.stats` module uses the pseudo-random number generator provided in the `numpy` module. Therefore, we should set the random seed using the `numpy.random.seed()` function (as opposed to `random.seed()`, which is the function for the Python's `random` module)."
   ]
  },
  {
   "cell_type": "code",
   "execution_count": null,
   "metadata": {},
   "outputs": [],
   "source": [
    "x = stats.expon(scale=2.0)\n",
    "\n",
    "# get the first 1000 random samples and show the first 3 \n",
    "np.random.seed(13579)\n",
    "xs1 = x.rvs(1000)\n",
    "print('the first 1000 samples: %r...' % xs1[:3])\n",
    "\n",
    "# get another 1000 random samples and show the first 3\n",
    "np.random.seed(24680)\n",
    "xs2 = x.rvs(1000)\n",
    "print('the second 1000 samples: %r...' % xs2[:3])"
   ]
  },
  {
   "cell_type": "markdown",
   "metadata": {},
   "source": [
    "The random seed determines the random sequence. If we reuse the random seed, we should be able to get the same random sequence."
   ]
  },
  {
   "cell_type": "code",
   "execution_count": null,
   "metadata": {},
   "outputs": [],
   "source": [
    "np.random.seed(13579)\n",
    "xs1 = x.rvs(1000)\n",
    "print('repeat the first 1000 samples: %r...' % xs1[:3])\n",
    "\n",
    "np.random.seed(24680)\n",
    "xs2 = x.rvs(1000)\n",
    "print('repeat the second 1000 samples: %r...' % xs2[:3])"
   ]
  },
  {
   "cell_type": "markdown",
   "metadata": {},
   "source": [
    "To make sure that the random numbers are indeed drawn from the expected random distribution, we can plot the histogram of the samples and compare that with the true distribution."
   ]
  },
  {
   "cell_type": "code",
   "execution_count": null,
   "metadata": {
    "scrolled": true
   },
   "outputs": [],
   "source": [
    "plt.figure(figsize=(10,5))\n",
    "\n",
    "xmin, xmax = x.ppf(0.001), x.ppf(0.999)\n",
    "xs = np.linspace(xmin, xmax, 100)\n",
    "ys = x.pdf(xs)\n",
    "\n",
    "axs = plt.subplot(1, 2, 1)\n",
    "axs.hist(xs1, alpha=0.5, bins='auto', density=True)\n",
    "axs.plot(xs, ys, 'r-')\n",
    "axs.set_xlim(xmin, xmax)\n",
    "axs.set_title(\"histogram of xs1\")\n",
    "\n",
    "axs = plt.subplot(1, 2, 2)\n",
    "axs.hist(xs2, alpha=0.5, bins='auto', density=True)\n",
    "axs.plot(xs, ys, 'r-')\n",
    "axs.set_xlim(xmin, xmax)\n",
    "axs.set_title(\"histogram of xs2\")\n",
    "\n",
    "plt.show()"
   ]
  },
  {
   "cell_type": "markdown",
   "metadata": {},
   "source": [
    "### Repeatable Random Sequences for Simulation\n",
    "\n",
    "Simulus uses the Python's `random` module as the default random number generator. In order to obtain repeatable results, one needs to set the random seed using `random.seed()` before calling any simulus functions (such as creating a simulator). We call this random seed (13579 in the example) *the global random seed*.\n",
    "\n",
    "The following example shows a simple instance of simulus that uses the default random number generator in the `random` module. The example generates a series of random integers between 0 and 99. "
   ]
  },
  {
   "cell_type": "code",
   "execution_count": null,
   "metadata": {},
   "outputs": [],
   "source": [
    "random.seed(13579) # the global random seed\n",
    "\n",
    "sim = simulus.simulator()\n",
    "x = [random.randint(0,99) for _ in range(10)]\n",
    "print(x)"
   ]
  },
  {
   "cell_type": "markdown",
   "metadata": {},
   "source": [
    "The above cell can run repeatedly and the same random sequence (34, 3, 21, ...) will be generated each time. This is because we set the same global random seed using `random.seed(13579)` each time we run the cell. \n",
    "\n",
    "If we are using the `scipy.stats` module, we also need to set the random seed for the `numpy.random` module. We can do this by getting a (32-bit) integer from the random number generator in the `random` module, and use it as the seed for the `numpy.random` module. In doing so, the cell can run repeatedly with the same results."
   ]
  },
  {
   "cell_type": "code",
   "execution_count": null,
   "metadata": {
    "scrolled": true
   },
   "outputs": [],
   "source": [
    "random.seed(13597) # the global random seed\n",
    "\n",
    "s = random.randrange(2**32)\n",
    "print(\"numpy.random's seed=%d\" % s)\n",
    "np.random.seed(s)\n",
    "\n",
    "sim = simulus.simulator()\n",
    "x = stats.randint(0, 99).rvs(10)\n",
    "print(x)"
   ]
  },
  {
   "cell_type": "markdown",
   "metadata": {},
   "source": [
    "In simulus, the global random seed determines all the random sequences of the simulation. This would satisfy most of the simulation needs in terms of repeatability. However, there are cases this may not be sufficient. \n",
    "\n",
    "For example, we may want to have a unique random sequence sepecific to a simulator. This happens when we run our model in parallel with multiple simulators, say, one for each CPU core. So if a machine has 24 cores, we may have 24 simulators running simultaneously on the machine. And if we have 100 such machines, we can instantiate a simulation with 2400 simulators, each dealing with one twenty-four hundredth of a large model. In this scenario, each simulator should have its own random sequence.\n",
    "\n",
    "A simulator's random sequence is uniquely determined by the global random seed and the name of the simulator. Simulus guarantees that as long as we choose the same global random seed and the same name for a simulator, we can obtain the same random sequence regardless of where we run the simulator (even if on different CPU core or a different machine in the cluster).\n",
    "\n",
    "The following example shows how to use the simulator-specific random number generator (as opposed of uring the default one in the random module). The example again generates a series of random integers between 0 and 99. This sequence of integers would be unique to the simulator named 'myname', and would only change if we change the global random seed."
   ]
  },
  {
   "cell_type": "code",
   "execution_count": null,
   "metadata": {},
   "outputs": [],
   "source": [
    "random.seed(13579) # the global random seed\n",
    "\n",
    "sim = simulus.simulator('myname')\n",
    "x = [sim.rng().randint(0,99) for _ in range(10)] # simulator-specific random sequence\n",
    "print(x)"
   ]
  },
  {
   "cell_type": "markdown",
   "metadata": {},
   "source": [
    "Even within a simulator, we may need to use separate random sequences, a.k.a. *random streams*, for example, one for the random customer inter-arrival time and the other for the service time. Having multiple random streams would make it easier to debug the models, since one can keep the same random sequence for each part of the model, even if we have to change the other parts. \n",
    "\n",
    "In the following example, we create two `numpy` random number generators, 'rng1' and 'rng2', using two 32-bit random integers, 's1' and 's2', drawn from the simulator-specific random sequence. We attach the rangom number generators to the random variables, 'rv1' and 'rv2', by setting the `random_state` of respective random variables."
   ]
  },
  {
   "cell_type": "code",
   "execution_count": null,
   "metadata": {},
   "outputs": [],
   "source": [
    "random.seed(13579) # the global random seed\n",
    "\n",
    "sim = simulus.simulator('myname')\n",
    "\n",
    "s1 = sim.rng().randrange(2**32)\n",
    "rng1= np.random.RandomState(s1)\n",
    "print(\"create rng1 with seed=%d\" % s1)\n",
    "\n",
    "s2 = sim.rng().randrange(2**32)\n",
    "rng2= np.random.RandomState(s2)\n",
    "print(\"create rng2 with seed=%d\" % s2)\n",
    "\n",
    "rv1 = stats.randint(0, 99)\n",
    "rv1.random_state = rng1\n",
    "\n",
    "rv2 = stats.randint(0, 99)\n",
    "rv2.random_state = rng2\n",
    "\n",
    "print('stream1: %r' % rv1.rvs(10))\n",
    "print('stream2: %r' % rv2.rvs(10))"
   ]
  },
  {
   "cell_type": "markdown",
   "metadata": {},
   "source": [
    "Now if we change one random stream, say, by changing the random variable 'rv1' to be one with a geometric distribution and also changing the number of random samples drawn from the distribution (from 10 to 20), the other random stream will not change."
   ]
  },
  {
   "cell_type": "code",
   "execution_count": null,
   "metadata": {},
   "outputs": [],
   "source": [
    "random.seed(13579) # the global random seed\n",
    "\n",
    "sim = simulus.simulator('myname')\n",
    "\n",
    "s1 = sim.rng().randrange(2**32)\n",
    "rng1= np.random.RandomState(s1)\n",
    "print(\"create rng1 with seed=%d\" % s1)\n",
    "\n",
    "s2 = sim.rng().randrange(2**32)\n",
    "rng2= np.random.RandomState(s2)\n",
    "print(\"create rng2 with seed=%d\" % s2)\n",
    "\n",
    "rv1 = stats.geom(0.25)\n",
    "rv1.random_state = rng1\n",
    "\n",
    "rv2 = stats.randint(0, 99)\n",
    "rv2.random_state = rng2\n",
    "\n",
    "print('stream1: %r' % rv1.rvs(20))\n",
    "print('stream2: %r' % rv2.rvs(10))"
   ]
  },
  {
   "cell_type": "markdown",
   "metadata": {},
   "source": [
    "### Using Python Generators\n",
    "\n",
    "One difference between simulation modeling and statistical analysis is that simulation tends to use the random numbers one at a time. For example, we draw one random number to represent the time it takes for the next customer to arrive at queue, and then we draw another random number to represent the time it takes for the customer to be serviced. The random numbers are drawn from different probability distributions. \n",
    "\n",
    "This can be accomplished using generators. Generators in Python are functions that can be paused and resumed on the fly, each time returning an object, which can be used in an interation. In our case, the returned objects are random numbers. To create a generator, one simply define a function and use the 'yield' statement instead of 'return'. \n",
    "\n",
    "In the following example, we define a generator function `exp_generator()` which returns one random number at a time drawn from an exponential distribution with the given mean. We create a separate random stream for each generator instance: one for the inter-arrival time, and the other for the service time. The random streams are \"attached\" the simulator named 'myname'. In this case, they are independent, unique, and repeatable, as long as we use the same global random seed. "
   ]
  },
  {
   "cell_type": "code",
   "execution_count": null,
   "metadata": {
    "scrolled": true
   },
   "outputs": [],
   "source": [
    "random.seed(13579) # the global random seed\n",
    "\n",
    "def exp_generator(sim, mean):\n",
    "    s = sim.rng().randrange(2**32)\n",
    "    rv = stats.expon(scale=mean)\n",
    "    rv.random_state = np.random.RandomState(s)\n",
    "    while True:\n",
    "        # generate 100 random numbers at a time\n",
    "        for x in rv.rvs(100):\n",
    "            yield x\n",
    "\n",
    "sim = simulus.simulator('myname')\n",
    "inter_arrival_time = exp_generator(sim, 1.0)\n",
    "service_time = exp_generator(sim, 0.8)\n",
    "\n",
    "for i in range(5):\n",
    "    print(\"%d: iatime=%g, svctime=%g\" % \n",
    "          (i, next(inter_arrival_time), next(service_time)))\n",
    "print('...')"
   ]
  },
  {
   "cell_type": "code",
   "execution_count": null,
   "metadata": {},
   "outputs": [],
   "source": []
  }
 ],
 "metadata": {
  "kernelspec": {
   "display_name": "Python 3",
   "language": "python",
   "name": "python3"
  },
  "language_info": {
   "codemirror_mode": {
    "name": "ipython",
    "version": 3
   },
   "file_extension": ".py",
   "mimetype": "text/x-python",
   "name": "python",
   "nbconvert_exporter": "python",
   "pygments_lexer": "ipython3",
   "version": "3.7.3"
  }
 },
 "nbformat": 4,
 "nbformat_minor": 2
}
