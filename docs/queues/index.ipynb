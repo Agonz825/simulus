{
 "cells": [
  {
   "cell_type": "markdown",
   "metadata": {},
   "source": [
    "# Queuing Models\n",
    "\n",
    "<img src=\"figs/queue.jpg\" align=\"right\" width=\"30%\" alt=\"queue\">\n",
    "\n",
    "This tutorial describes how to use simulus to simulate queuing systems. Simulus aspires to be a part of the Python ecosystem in supporting scientific computing. This tutorial consists of several Jupyter notebooks, on which we run the simulation code. To run the tutorial, the following Python packages need to be installed:\n",
    "* **jupyter**: a web application for sharing interactive documents that contain text, code, and data visualization\n",
    "* **numpy**: a library for efficient representation of multi-dimensional arrays\n",
    "* **scipy**: a library for numerical computations, including linear algebra and statistics\n",
    "* **matplotlib**: a 2-D plotting library\n",
    "\n",
    "You can install these packages via commands such as:\n",
    "\n",
    "```\n",
    "python -m pip install --user jupyter numpy scipy matplotlib\n",
    "```\n",
    "\n",
    "Of course, you'll need to install simulus too. Check out [Quick Start](https://simulus.readthedocs.io/en/latest/readme.html) for simulus installation instructions. Basically, you can install simulus via commands such as:\n",
    "\n",
    "```\n",
    "python -m pip install --user simulus\n",
    "```"
   ]
  },
  {
   "cell_type": "markdown",
   "metadata": {},
   "source": [
    "## Setting up the Environment\n",
    "\n",
    "Make sure you are able to the run the following cell. If an error occurs, it means you are missing some needed packages. If that happens, you need to install the missing packages and restart the notebook to continue with the tutorial."
   ]
  },
  {
   "cell_type": "code",
   "execution_count": 1,
   "metadata": {},
   "outputs": [],
   "source": [
    "# for random distributions, random number generators, statistics\n",
    "import random\n",
    "import numpy as np\n",
    "import scipy.stats as stats\n",
    "\n",
    "# for simulation\n",
    "import simulus\n",
    "\n",
    "# for data visualization\n",
    "import matplotlib.pyplot as plt\n",
    "%matplotlib inline\n",
    "\n",
    "# for animation inside the notebook\n",
    "import ipywidgets as widgets\n",
    "from ipywidgets import interact"
   ]
  },
  {
   "cell_type": "markdown",
   "metadata": {},
   "source": [
    "## Table of Contents\n",
    "\n",
    "* [Introduction to Queuing Models](intro.ipynb)\n",
    "* [Random Number Generation for Simulation](rng.ipynb)\n",
    "* [M/G/1 Queues](mg1.ipynb)"
   ]
  },
  {
   "cell_type": "code",
   "execution_count": null,
   "metadata": {},
   "outputs": [],
   "source": []
  }
 ],
 "metadata": {
  "kernelspec": {
   "display_name": "Python 3",
   "language": "python",
   "name": "python3"
  },
  "language_info": {
   "codemirror_mode": {
    "name": "ipython",
    "version": 3
   },
   "file_extension": ".py",
   "mimetype": "text/x-python",
   "name": "python",
   "nbconvert_exporter": "python",
   "pygments_lexer": "ipython3",
   "version": "3.7.3"
  }
 },
 "nbformat": 4,
 "nbformat_minor": 2
}
