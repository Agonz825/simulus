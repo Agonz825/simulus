{
 "cells": [
  {
   "cell_type": "markdown",
   "metadata": {},
   "source": [
    "# Simulus Basics\n",
    "\n",
    "This guide describes how simulus works. \n",
    "\n",
    "Simulus is a process-oriented discrete-event simulator written in Python. That's mouthful. Let's first break it down what it means. \n",
    "\n",
    "## Discrete-Event Simulation and Process-Oriented World View\n",
    "\n",
    "A discrete-event simulator models the world as a sequence of events that happen in discrete time. The simulator basically processes these events in order. Such a simulator would keep a simulation clock, which advances its time by leaps and bounds in accordance with the time of the events. \n",
    "\n",
    "For example, a professor starts the day with a cup of coffee at 4 AM, reads for 2 hours, has breakfast, takes shower, and then drives to school at 7:30 AM. The discrete-event simulator for the professor's day will go through a sequence of events: \"wake up\" event at 4:00, \"start coffee\" event at 4:05, \"start read\" event at 4:10, \"finish coffee\" event at 4:20, \"finish read\" event at 6:10, breakfast event at 6:30, shower event at 6:50, \"start driving\" event at 7:30, etc. The clock of the simulator in this case will go through a sequence of distinct values: 4:00, 4:05, 4:10, ... You got the gist. Discrete-event simulation is a very powerful modeling method. You can think of the entire world, including the activities of all professors, students, and all people, as events. The simulator's job is to play out the events in order. By doing so, we get better understanding of the world.\n",
    "\n",
    "Simulus is a \"process-oriented\" discrete-event simulator. What it means is that in addition to describing the world as a bunch of events, one can model it using processes. As an example, suppose the world consists of many professors, students, and people. Previously we described the schedule of one professor. A different person would have a different schedule, i.e., following a different sequence of events. Using process-oriented simulation, every person in this system can be modeled as a separate process. \n",
    "\n",
    "Note that people interact in this world. For example, if everyone starts driving to school or work in the morning during the traffic hours, everyone would get delayed since congestion would happen on the road. Also, if a student needs to meet with another student at a coffee shop. They would not be able to carry on with their next task (say, to work on their joint project) until both of them can get to the coffee shop. Simulus provides the needed support for creating and managing the processes, so as to make it easier for one to model the world.\n",
    "\n",
    "## How Simulus Works\n",
    "\n",
    "Simulus works in two ways. One way is through events. You can schedule events and processing them. We call it direct event scheduling. The other way is through processes. You can create processes and have them run and interact. We call it process scheduling. Of course, there's a third way, by combining them and having them both.\n",
    "\n",
    "### Direct Event Scheduling\n",
    "\n",
    "In simulus, an event is simply a function to be invoked at a designated time.\n",
    "\n",
    "#### The Hello-World Example\n",
    "\n",
    "The following is a hello-world example."
   ]
  },
  {
   "cell_type": "code",
   "execution_count": 1,
   "metadata": {},
   "outputs": [
    {
     "name": "stdout",
     "output_type": "stream",
     "text": [
      "Hello world at time 10\n"
     ]
    }
   ],
   "source": [
    "import simulus\n",
    "\n",
    "def print_message(sim, params):\n",
    "    print(\"Hello world at time \"+str(sim.now))\n",
    "    \n",
    "sim = simulus.simulator()\n",
    "sim.sched(print_message, until=10)\n",
    "sim.run()"
   ]
  },
  {
   "cell_type": "markdown",
   "metadata": {},
   "source": [
    "In order to use the simulator, we need to first import the `simulus` module and then create a simulator using the `simulator()` method. A simulator maintains an event list where all events will be stored and sorted in their timestamp order. A simulator also keeps the time, which gets advanced while executing the events. we can find out the current time of the simulator by inspecting the `now` variable of the simulator.\n",
    "\n",
    "In the example, the function `print_message()` is scheduled to run at time 10. We schedule the function using the `sched()` method of the simulator, and passing the name of the function and using the `until` argument to specify the time to invoke the function.\n",
    "\n",
    "In discrete-event simulation terminology, the function is also called an event handler. An event handler in simulus _must_ take two arguments. The first argument `sim` is the simulator on which the function is scheduled to run. The second argument `params` is a dictionary used for passing all user-defined arguments, which we will describe momentarily.\n",
    "\n",
    "To run the simulation, simply use the `run()` method of the simulator. Without an argument, the `run()` method will process _all_ events on the event list and returns when there's no more event.\n",
    "\n",
    "#### Passing Arguments to Event Handlers\n",
    "\n",
    "The next example shows how to pass arguments between `sched()` and the event handler. "
   ]
  },
  {
   "cell_type": "code",
   "execution_count": 2,
   "metadata": {},
   "outputs": [
    {
     "name": "stdout",
     "output_type": "stream",
     "text": [
      "print_params() invoked at time 10\n",
      "  with msg: hello\n",
      "  all arguments: {'msg': 'hello', 'var': False}\n",
      "print_params() invoked at time 20\n",
      "  with msg: hey, how can you forget the message\n",
      "  all arguments: {'arg1': 'here', 'arg2': 'be good'}\n"
     ]
    }
   ],
   "source": [
    "import simulus\n",
    "\n",
    "def print_params(s, x):\n",
    "    print(\"print_params() invoked at time \"+str(s.now))\n",
    "    print(\"  with msg:\", x.get('msg', \"hey, how can you forget the message\"))\n",
    "    print(\"  all arguments:\", x)\n",
    "    \n",
    "sim = simulus.simulator()\n",
    "sim.sched(print_params, until=10, msg=\"hello\", var=False)\n",
    "sim.sched(print_params, until=20, arg1=\"here\", params={\"arg1\":10, \"arg2\":\"be good\"})\n",
    "sim.run()\n"
   ]
  },
  {
   "cell_type": "markdown",
   "metadata": {},
   "source": [
    "In this example, the `print_params()` function is scheduled to run at time 10 and time 20. We can pass aguments from `sched()` to the event handler, either as keyword arguments (such as `msg`, `var`, and `arg1`), or in a dictionary argument explicitly named `params`, or both. They will also be turned into a dictionary as passed as the second argument to the event handler when it is invoked.\n",
    "\n",
    "Note that in this example, when `arg1` appears both as a keyword argument and in the dictionary given to `params`. The keyword argument takes precedence. \n",
    "\n",
    "Of course, one can schedule more functions to run in an event handler. The whole point of simulation is to capture and examine the complicated logic or procedures of the world or systems. \n",
    "\n",
    "#### The Life of a Professor\n",
    "\n",
    "In the next example, we show the \"complicated\" life of a professor."
   ]
  },
  {
   "cell_type": "code",
   "execution_count": 3,
   "metadata": {},
   "outputs": [
    {
     "name": "stdout",
     "output_type": "stream",
     "text": [
      "professor wakes up at 04:00:00\n",
      "professor starts drinking coffee at 04:05:00\n",
      "professor starts reading at 04:10:00\n",
      "professor finishes drinking coffee at 04:20:00\n",
      "professor finishes reading at 06:10:00\n",
      "professor breakfasts at 06:30:00\n",
      "professor shows at 06:50:00\n",
      "professor leaves home and drives to school at 07:30:00\n",
      "professor arrives at school at 08:15:00\n",
      "professor has first meeting at 09:00:00\n",
      "professor has second meeting at 10:00:00\n"
     ]
    }
   ],
   "source": [
    "import simulus\n",
    "\n",
    "from time import gmtime, strftime\n",
    "def nowstr(sim):\n",
    "    return strftime(\"%H:%M:%S\", gmtime(sim.now))\n",
    "\n",
    "def wake_up(sim, params):\n",
    "    print(\"professor wakes up at \"+nowstr(sim))\n",
    "    sim.sched(start_coffee, offset=5*60) # 5 minutes from now\n",
    "    sim.sched(breakfast, offset=2*3600+30*60) # 2 hours and 30 minutes from now\n",
    "    sim.sched(shower, offset=2*3600+50*60) # 2 hours and 50 minutes from now\n",
    "    sim.sched(leave, offset=3*3600+30*60) # 3 hours and 30 minutes from now\n",
    "    \n",
    "def start_coffee(sim, params):\n",
    "    print(\"professor starts drinking coffee at \"+nowstr(sim))\n",
    "    sim.sched(finish_coffee, offset=15*60) # 15 minutes from now\n",
    "    sim.sched(start_read, offset=5*60) # 5 minutes from now\n",
    "\n",
    "def finish_coffee(sim, params):\n",
    "    print(\"professor finishes drinking coffee at \"+nowstr(sim))\n",
    "    \n",
    "def start_read(sim, params):\n",
    "    print(\"professor starts reading at \"+nowstr(sim))\n",
    "    sim.sched(finish_read, offset=2*3600) # 2 hours from now\n",
    "    \n",
    "def finish_read(sim, params):\n",
    "    print(\"professor finishes reading at \"+nowstr(sim))\n",
    "\n",
    "def breakfast(sim, params):\n",
    "    print(\"professor breakfasts at \"+nowstr(sim))\n",
    "\n",
    "def shower(sim, params):\n",
    "    print(\"professor shows at \"+nowstr(sim))\n",
    "\n",
    "def leave(sim, params):\n",
    "    print(\"professor leaves home and drives to school at \"+nowstr(sim))\n",
    "    sim.sched(arrive, offset=45*60) # 45 minutes from now\n",
    "\n",
    "def arrive(sim, params):\n",
    "    print(\"professor arrives at school at \"+nowstr(sim))\n",
    "\n",
    "def meeting1(sim, params):\n",
    "    print(\"professor has first meeting at \"+nowstr(sim))\n",
    "\n",
    "def meeting2(sim, params):\n",
    "    print(\"professor has second meeting at \"+nowstr(sim))\n",
    "\n",
    "sim = simulus.simulator()\n",
    "sim.sched(wake_up, until=4*3600) # 4:00\n",
    "sim.sched(meeting1, until=9*3600) # 9:00\n",
    "sim.sched(meeting2, until=10*3600) # 10:00\n",
    "sim.run()"
   ]
  },
  {
   "cell_type": "markdown",
   "metadata": {},
   "source": [
    "The time is represented as a floating point number in simulus. In this example, we use time in seconds starting from  midnight. To make things a bit more comprehensible, we use the standard `time` module in Python to turn the seconds into hours and minutes in the printout. "
   ]
  },
  {
   "cell_type": "markdown",
   "metadata": {},
   "source": [
    "#### Cancel and Reschedule Events\n",
    "\n",
    "So far, the professor's schedule is rather boring. In real life, we make appointments and we cancel appointments. We also reschedule appointments. Let's make things a bit more interesting for the professor's life. Let's assume that today there's a big traffic jam. So instead of taking only 45 minutes, the professor takes 2 hours 45 minutes to get to school. Obviously the professor will miss the first meeting and get late for the second meeting. So she cancels the first meeting and reschedules the second meeting. \n",
    "\n",
    "To do that we need to use the return value from the `sched()` method. It is actually the event created by the schedule. One can call `cancel()` or `resched()` and pass the event as the argument. In the example, we cancel and reschedule the events when the professor is about to leave home (assuming she knows the traffic jam is about to happen and predicts the travel time).\n",
    "\n",
    "Another difference from the previous example is that we make waking up a repeatable event (with a 24 hour interval). In this case, the professor always gets up at 4 AM every day and carries out the same set of chores. If we `run()` the simulation without an argument, it would never return as there will always be events on the event list. Instead, we call `run()` with a simulation end time using the `until` argument. In the example, we run the simulator for a length of 3 days."
   ]
  },
  {
   "cell_type": "code",
   "execution_count": 4,
   "metadata": {},
   "outputs": [
    {
     "name": "stdout",
     "output_type": "stream",
     "text": [
      "professor wakes up at 04:00:00\n",
      "professor starts drinking coffee at 04:05:00\n",
      "professor starts reading at 04:10:00\n",
      "professor finishes drinking coffee at 04:20:00\n",
      "professor finishes reading at 06:10:00\n",
      "professor breakfasts at 06:30:00\n",
      "professor showers at 06:50:00\n",
      "professor leaves home and drives to school at 07:30:00\n",
      "professor arrives at school at 10:15:00\n",
      "professor has second meeting at 11:00:00\n",
      "professor wakes up at 04:00:00\n",
      "professor starts drinking coffee at 04:05:00\n",
      "professor starts reading at 04:10:00\n",
      "professor finishes drinking coffee at 04:20:00\n",
      "professor finishes reading at 06:10:00\n",
      "professor breakfasts at 06:30:00\n",
      "professor showers at 06:50:00\n",
      "professor leaves home and drives to school at 07:30:00\n",
      "professor arrives at school at 08:15:00\n",
      "professor wakes up at 04:00:00\n",
      "professor starts drinking coffee at 04:05:00\n",
      "professor starts reading at 04:10:00\n",
      "professor finishes drinking coffee at 04:20:00\n",
      "professor finishes reading at 06:10:00\n",
      "professor breakfasts at 06:30:00\n",
      "professor showers at 06:50:00\n",
      "professor leaves home and drives to school at 07:30:00\n",
      "professor arrives at school at 08:15:00\n"
     ]
    }
   ],
   "source": [
    "import simulus\n",
    "\n",
    "from time import gmtime, strftime\n",
    "def nowstr(sim):\n",
    "    return strftime(\"%H:%M:%S\", gmtime(sim.now))\n",
    "\n",
    "def wake_up(sim, params):\n",
    "    print(\"professor wakes up at \"+nowstr(sim))\n",
    "    sim.sched(start_coffee, offset=5*60) # 5 minutes from now\n",
    "    sim.sched(breakfast, offset=2*3600+30*60) # 2 hours and 30 minutes from now\n",
    "    sim.sched(shower, offset=2*3600+50*60) # 2 hours and 50 minutes from now\n",
    "    sim.sched(leave, offset=3*3600+30*60) # 3 hours and 30 minutes from now\n",
    "    \n",
    "def start_coffee(sim, params):\n",
    "    print(\"professor starts drinking coffee at \"+nowstr(sim))\n",
    "    sim.sched(finish_coffee, offset=15*60) # 15 minutes from now\n",
    "    sim.sched(start_read, offset=5*60) # 5 minutes from now\n",
    "\n",
    "def finish_coffee(sim, params):\n",
    "    print(\"professor finishes drinking coffee at \"+nowstr(sim))\n",
    "    \n",
    "def start_read(sim, params):\n",
    "    print(\"professor starts reading at \"+nowstr(sim))\n",
    "    sim.sched(finish_read, offset=2*3600) # 2 hours from now\n",
    "    \n",
    "def finish_read(sim, params):\n",
    "    print(\"professor finishes reading at \"+nowstr(sim))\n",
    "\n",
    "def breakfast(sim, params):\n",
    "    print(\"professor breakfasts at \"+nowstr(sim))\n",
    "\n",
    "def shower(sim, params):\n",
    "    print(\"professor showers at \"+nowstr(sim))\n",
    "\n",
    "def leave(sim, params):\n",
    "    print(\"professor leaves home and drives to school at \"+nowstr(sim))\n",
    "    if sim.now < 24*3600:\n",
    "        # traffic jam at the first day\n",
    "        sim.sched(arrive, offset=2*3600+45*60) # 2 hours and 45 minutes from now\n",
    "        # the two meetings are only at the first day\n",
    "        sim.cancel(e1)\n",
    "        sim.resched(e2, until=11*3600) # 11:00\n",
    "    else:\n",
    "        # no traffic jam in the following days\n",
    "        sim.sched(arrive, offset=45*60) # 45 minutes from now\n",
    "\n",
    "def arrive(sim, params):\n",
    "    print(\"professor arrives at school at \"+nowstr(sim))\n",
    "\n",
    "def meeting1(sim, params):\n",
    "    print(\"professor has first meeting at \"+nowstr(sim))\n",
    "\n",
    "def meeting2(sim, params):\n",
    "    print(\"professor has second meeting at \"+nowstr(sim))\n",
    "\n",
    "sim = simulus.simulator()\n",
    "sim.sched(wake_up, until=4*3600, repeat_intv=24*3600) # 4:00 \n",
    "e1 = sim.sched(meeting1, until=9*3600) # 9:00\n",
    "e2 = sim.sched(meeting2, until=10*3600) # 10:00\n",
    "sim.run(until=72*3600)"
   ]
  },
  {
   "cell_type": "markdown",
   "metadata": {},
   "source": [
    "#### More on Running the Simulators\n",
    "\n",
    "By default, a simulator starts at time zero. We can instead use the `init_time` argument to change the start simulation time when we create the simulator. A simulator can also have an optional name using the `name` argument. If specified, the simulator's name should be unique among all simulators created.\n",
    "\n",
    "All the previous examples create only one simulator. In fact, one can simultaneously run multiple simulators in simulus, each maintaining its own event list and the simulation clock. If multiple simulators are created, they will all run independently. The event handlers at different simulators are invoked in different timelines. That is, the current time at one simulator has no relation to the current time of another simulator. This is the default behavior. We can also have the simulators be time synchronized, using the `sync()` function. We will return to this topic when we discuss simulus parallel and distributed simulation support.\n",
    "\n",
    "Each simulator processes its own events when we call the `run()` method. We can specify either `offset` or `until` (but not both), in which case the simulator will process all events with timestamps no larger than the designated time. When the method returns, the current time of the simulator will be advanced to the designated time. If both `offset` and `until` are ignored, the simulator will run as long as there are events on the event list. Be careful in this case, the simulator may run forever for some models as new events are generated repeatedly when the event handlers are invoked.\n",
    "\n",
    "We can also step through the simulation processing one scheduled event at a time. This is achieved using the `step()` method, which processes the next event on the event list and advances the simulation clock to the time of the next event. If there is no event available on the event list, the method is a no-op. To determine the time of the next event, we can the `peek()` method. We can also list all future events of a simulator using the `show_calendar()` method. This method is supposedly used only for debugging, since it'd be an expensible operation to print out all future events on an event list.\n",
    "\n",
    "The following example illustrates some of the functions we just metioned in this section."
   ]
  },
  {
   "cell_type": "code",
   "execution_count": 5,
   "metadata": {},
   "outputs": [
    {
     "name": "stdout",
     "output_type": "stream",
     "text": [
      "list of future events (n=5) at time 100 on simulator sim1:\n",
      "  direct[4417894832]:105\n",
      "  direct[4417895392]:125\n",
      "  direct[4417895448]:145\n",
      "  direct[4417895168]:165\n",
      "  direct[4417894776]:185\n",
      "list of future events (n=20) at time -100 on simulator sim2:\n",
      "  direct[4417893544]:-95\n",
      "  direct[4417895784]:-85\n",
      "  direct[4417895280]:-75\n",
      "  direct[4417896344]:-65\n",
      "  direct[4417895336]:-55\n",
      "  direct[4417895840]:-45\n",
      "  direct[4417895728]:-35\n",
      "  direct[4417892536]:-25\n",
      "  direct[4417893040]:-15\n",
      "  direct[4417892760]:-5\n",
      "  direct[4417896008]:5\n",
      "  direct[4417893096]:15\n",
      "  direct[4417895952]:25\n",
      "  direct[4417896288]:35\n",
      "  direct[4417892592]:45\n",
      "  direct[4416408768]:55\n",
      "  direct[4417902688]:65\n",
      "  direct[4417902968]:75\n",
      "  direct[4417903136]:85\n",
      "  direct[4417902912]:95\n",
      "simulator 'sim1' handles event at time 105\n",
      "simulator 'sim2' handles event at time -95\n",
      "simulator 'sim1' handles event at time 125\n",
      "simulator 'sim2' handles event at time -85\n",
      "simulator 'sim1' handles event at time 145\n",
      "simulator 'sim2' handles event at time -75\n",
      "simulator 'sim1' handles event at time 165\n",
      "simulator 'sim2' handles event at time -65\n",
      "simulator 'sim1' handles event at time 185\n",
      "simulator 'sim2' handles event at time -55\n",
      "simulator 'sim2' handles event at time -45\n",
      "simulator 'sim2' handles event at time -35\n",
      "simulator 'sim2' handles event at time -25\n",
      "simulator 'sim2' handles event at time -15\n",
      "simulator 'sim2' handles event at time -5\n",
      "simulator 'sim2' handles event at time 5\n",
      "simulator 'sim2' handles event at time 15\n",
      "simulator 'sim2' handles event at time 25\n",
      "simulator 'sim2' handles event at time 35\n",
      "simulator 'sim2' handles event at time 45\n",
      "simulator 'sim2' handles event at time 55\n",
      "simulator 'sim2' handles event at time 65\n",
      "simulator 'sim2' handles event at time 75\n",
      "simulator 'sim2' handles event at time 85\n",
      "simulator 'sim2' handles event at time 95\n"
     ]
    }
   ],
   "source": [
    "import simulus\n",
    "\n",
    "def handle(sim, params):\n",
    "    print(\"simulator '%s' handles event at time %g\" % (sim.name, sim.now))\n",
    "\n",
    "sim1 = simulus.simulator(name=\"sim1\", init_time=100)\n",
    "sim2 = simulus.simulator(name=\"sim2\", init_time=-100)\n",
    "\n",
    "for i in range(5, 100, 20):\n",
    "    sim1.sched(handle, offset=i) # use offset here\n",
    "for i in range(5, 200, 10):\n",
    "    sim2.sched(handle, offset=i) # use offset here\n",
    "sim1.show_calendar()\n",
    "sim2.show_calendar()\n",
    "\n",
    "while True:\n",
    "    t1, t2 = sim1.peek(), sim2.peek()\n",
    "    if t1 < simulus.infinite_time:\n",
    "        sim1.step()\n",
    "    if t2 < simulus.infinite_time:\n",
    "        sim2.step()\n",
    "    if t1 == simulus.infinite_time and \\\n",
    "       t2 == simulus.infinite_time:\n",
    "        break"
   ]
  },
  {
   "cell_type": "markdown",
   "metadata": {},
   "source": [
    "In this example, we create two simulators, one starting from time 100 and the other from time -100. Yes, we can use negative simulation time! For one simulator, we schedule a function to be invoked 5 times at regular time intervals with a gap of 20 and starting at 5 from the simulator's start time. For the other simulator, we schedule the same function to be invoked 10 times at regular time intervals with a gap of 10 and starting at 5 from the simulator's start time. We then step through the scheduled events of the two simulators, processing one event at a time for each simulator in alterative fashion as long as they have events."
   ]
  },
  {
   "cell_type": "markdown",
   "metadata": {},
   "source": [
    "### Process Scheduling\n",
    "\n",
    "Another way to model the world is to use simulation processes. Conceptually, a process is just a thread of control, the same as you sequentially run through a prgram, executing a sequence of statements, if-branches, loops, and making calls to functions. During its execution, a simulation process can sleep for some time, and can also be blocked if requesting for resources that are not available. \n",
    "\n",
    "In simulus, the simulation processes are implemented as coroutines (also known as micro-threads or \"tasklets\") using Python's greenlet package. During its lifetime, a process is expected to run through a series of implicit events, including those representing the wake-up of the process (after sleeping for some duration) or the unblocking of the process (after the resource blocking condition has been removed).\n",
    "\n",
    "#### The Hello-World Example Using Process\n",
    "\n",
    "The following is again the hello-world example, but in this time using a process."
   ]
  },
  {
   "cell_type": "code",
   "execution_count": 6,
   "metadata": {},
   "outputs": [
    {
     "name": "stdout",
     "output_type": "stream",
     "text": [
      "Hello world at time 10\n"
     ]
    }
   ],
   "source": [
    "import simulus\n",
    "\n",
    "def print_message(sim, params):\n",
    "    print(\"Hello world at time \"+str(sim.now))\n",
    "    \n",
    "sim = simulus.simulator()\n",
    "sim.process(print_message, until=10)\n",
    "sim.run()"
   ]
  },
  {
   "cell_type": "code",
   "execution_count": null,
   "metadata": {},
   "outputs": [],
   "source": []
  }
 ],
 "metadata": {
  "kernelspec": {
   "display_name": "Python 3",
   "language": "python",
   "name": "python3"
  },
  "language_info": {
   "codemirror_mode": {
    "name": "ipython",
    "version": 3
   },
   "file_extension": ".py",
   "mimetype": "text/x-python",
   "name": "python",
   "nbconvert_exporter": "python",
   "pygments_lexer": "ipython3",
   "version": "3.7.3"
  }
 },
 "nbformat": 4,
 "nbformat_minor": 2
}
